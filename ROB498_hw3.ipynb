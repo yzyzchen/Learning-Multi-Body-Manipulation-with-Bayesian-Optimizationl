{
 "cells": [
  {
   "cell_type": "markdown",
   "metadata": {
    "id": "EvG9_BB2Ju3i"
   },
   "source": [
    "# ROB 498: Robot Learning for Planning and Control\n",
    "# Assignment 3: Learning Dynamics Directly from State Measurements"
   ]
  },
  {
   "cell_type": "markdown",
   "metadata": {
    "id": "r70ewERlJu3k"
   },
   "source": [
    "## Colab Setup"
   ]
  },
  {
   "cell_type": "code",
   "execution_count": 1,
   "metadata": {
    "executionInfo": {
     "elapsed": 10,
     "status": "ok",
     "timestamp": 1740841163439,
     "user": {
      "displayName": "Zhiyin Xu",
      "userId": "07429917279924941177"
     },
     "user_tz": 300
    },
    "id": "KZzc33wbJu3k"
   },
   "outputs": [],
   "source": [
    "# TODO: Fill in the Google Drive path where you uploaded the assignment\n",
    "# Example: If you create a ROB498 folder and put all the files under HW3 folder, then 'ROB498/HW3'\n",
    "GOOGLE_DRIVE_PATH_AFTER_MYDRIVE = 'ROB498/hw/HW3'"
   ]
  },
  {
   "cell_type": "markdown",
   "metadata": {
    "id": "-Boe6XKDJu3l"
   },
   "source": [
    "### Setup Code"
   ]
  },
  {
   "cell_type": "code",
   "execution_count": 2,
   "metadata": {
    "executionInfo": {
     "elapsed": 46,
     "status": "ok",
     "timestamp": 1740841196155,
     "user": {
      "displayName": "Zhiyin Xu",
      "userId": "07429917279924941177"
     },
     "user_tz": 300
    },
    "id": "jMyXellrJu3l"
   },
   "outputs": [],
   "source": [
    "%load_ext autoreload\n",
    "%autoreload 2"
   ]
  },
  {
   "cell_type": "code",
   "execution_count": 3,
   "metadata": {
    "colab": {
     "base_uri": "https://localhost:8080/"
    },
    "executionInfo": {
     "elapsed": 13825,
     "status": "ok",
     "timestamp": 1740841213932,
     "user": {
      "displayName": "Zhiyin Xu",
      "userId": "07429917279924941177"
     },
     "user_tz": 300
    },
    "id": "ZcGAlepJJu3l",
    "outputId": "b959aed6-f67b-481c-ed6f-0b21cd51e20b"
   },
   "outputs": [
    {
     "name": "stdout",
     "output_type": "stream",
     "text": [
      "Mounted at /content/drive\n"
     ]
    }
   ],
   "source": [
    "from google.colab import drive\n",
    "\n",
    "drive.mount('/content/drive')"
   ]
  },
  {
   "cell_type": "markdown",
   "metadata": {
    "id": "LyePksZ9Ju3l"
   },
   "source": [
    "The below cell will check you have the required files in your directory. The file `mppi.py` will be released on 02/24/2025, so you should expect to see 'Required file `mppi.py` not found!' before then. This is because there may still be students working on Homework 2 until then. This file is not needed until Section 4 of the homework."
   ]
  },
  {
   "cell_type": "code",
   "execution_count": 4,
   "metadata": {
    "colab": {
     "base_uri": "https://localhost:8080/"
    },
    "executionInfo": {
     "elapsed": 574,
     "status": "ok",
     "timestamp": 1740841215037,
     "user": {
      "displayName": "Zhiyin Xu",
      "userId": "07429917279924941177"
     },
     "user_tz": 300
    },
    "id": "GZ-rWwhPJu3l",
    "outputId": "230e1b9d-3af6-42b3-b14c-64eb8a5e8f8d"
   },
   "outputs": [
    {
     "name": "stdout",
     "output_type": "stream",
     "text": [
      "All required files are found :)\n"
     ]
    }
   ],
   "source": [
    "import os\n",
    "import sys\n",
    "\n",
    "GOOGLE_DRIVE_PATH = os.path.join('drive', 'My Drive', GOOGLE_DRIVE_PATH_AFTER_MYDRIVE)\n",
    "\n",
    "files = os.listdir(GOOGLE_DRIVE_PATH)\n",
    "expected_files = [ 'ROB498_hw3.ipynb', 'learning_state_dynamics.py', 'panda_pushing_env.py', 'visualizers.py',  'mppi.py', 'validation_data.npy']\n",
    "\n",
    "sys.path.append(GOOGLE_DRIVE_PATH)\n",
    "\n",
    "# Verify that there are all the expected files in the directory\n",
    "all_found = True\n",
    "for expected_file in expected_files:\n",
    "  if expected_file not in files:\n",
    "    print(f'Required file {expected_file} not found!')\n",
    "    all_found = False\n",
    "if all_found:\n",
    "  print('All required files are found :)')"
   ]
  },
  {
   "cell_type": "code",
   "execution_count": 5,
   "metadata": {
    "colab": {
     "base_uri": "https://localhost:8080/"
    },
    "executionInfo": {
     "elapsed": 11572,
     "status": "ok",
     "timestamp": 1740841229001,
     "user": {
      "displayName": "Zhiyin Xu",
      "userId": "07429917279924941177"
     },
     "user_tz": 300
    },
    "id": "ypCs_zCXJu3l",
    "outputId": "7d4d39bb-bcf8-4d51-ff13-bcc123dc250d"
   },
   "outputs": [
    {
     "name": "stdout",
     "output_type": "stream",
     "text": [
      "Collecting pybullet\n",
      "  Downloading pybullet-3.2.7-cp311-cp311-manylinux_2_17_x86_64.manylinux2014_x86_64.whl.metadata (1.8 kB)\n",
      "Downloading pybullet-3.2.7-cp311-cp311-manylinux_2_17_x86_64.manylinux2014_x86_64.whl (103.2 MB)\n",
      "\u001b[2K   \u001b[90m━━━━━━━━━━━━━━━━━━━━━━━━━━━━━━━━━━━━━━━━\u001b[0m \u001b[32m103.2/103.2 MB\u001b[0m \u001b[31m6.3 MB/s\u001b[0m eta \u001b[36m0:00:00\u001b[0m\n",
      "\u001b[?25hInstalling collected packages: pybullet\n",
      "Successfully installed pybullet-3.2.7\n",
      "Collecting numpngw\n",
      "  Downloading numpngw-0.1.4-py3-none-any.whl.metadata (14 kB)\n",
      "Requirement already satisfied: numpy>=1.6.0 in /usr/local/lib/python3.11/dist-packages (from numpngw) (1.26.4)\n",
      "Downloading numpngw-0.1.4-py3-none-any.whl (21 kB)\n",
      "Installing collected packages: numpngw\n",
      "Successfully installed numpngw-0.1.4\n"
     ]
    }
   ],
   "source": [
    "# Install missing required packages\n",
    "# Unfortunately Colab does not have pybullet package by default, so we will have to install it every time that the notebook kernel is restarted.\n",
    "# Install pybullet -- For simulation purposes\n",
    "!pip install pybullet\n",
    "# Install numpngw -- For visualization purposes\n",
    "!pip install numpngw"
   ]
  },
  {
   "cell_type": "code",
   "execution_count": 6,
   "metadata": {
    "executionInfo": {
     "elapsed": 3573,
     "status": "ok",
     "timestamp": 1740841244507,
     "user": {
      "displayName": "Zhiyin Xu",
      "userId": "07429917279924941177"
     },
     "user_tz": 300
    },
    "id": "76jdt0TDJu3m"
   },
   "outputs": [],
   "source": [
    "import torch\n",
    "import os\n",
    "import torch.nn as nn\n",
    "import torch.nn.functional as F\n",
    "import torch.optim as optim\n",
    "import numpy as np\n",
    "from torch.utils.data import Dataset, DataLoader\n",
    "import matplotlib.pyplot as plt\n",
    "from numpngw import write_apng\n",
    "from IPython.display import Image\n",
    "from tqdm.notebook import tqdm"
   ]
  },
  {
   "cell_type": "markdown",
   "metadata": {
    "id": "muC5Y_HSJu3m"
   },
   "source": [
    "## Assignment Introduction"
   ]
  },
  {
   "cell_type": "markdown",
   "metadata": {
    "id": "tNGw014wJu3m"
   },
   "source": [
    "Due 3/19 at 11:59pm\n",
    "\n",
    "**Rules**:\n",
    "\n",
    "1. All homework must be done individually, but you are encouraged to post questions on Piazza\n",
    "\n",
    "2. No late homework will be accepted (unless you use your late-day tokens)\n",
    "\n",
    "3. Submit your code on [autograder.io](http://autograder.io/)\n",
    "\n",
    "4. Remember that copying-and-pasting code from other sources is not allowed\n",
    "\n",
    "5. The use of additional package imports beyound the packages we provide is not allowed. The autograder will not grade your code if you use additional packages.\n",
    "\n",
    "**Instructions**\n",
    "- Each problem will give you a file with some template code, and you need to fill in the\n",
    "rest.\n",
    "- We use the autograder, so if you’re ever wondering “will I get full points for\n",
    "this?” just upload your code in the autograder to check. There is no limit to how\n",
    "many times you can upload to autograder.\n",
    "- The autograder may test your problem with multiple different inputs to make sure it is correct.\n",
    "- The autograder will only show you if you got it right/wrong, so if you don’t get full points, try to test with some other inputs."
   ]
  },
  {
   "cell_type": "markdown",
   "metadata": {
    "id": "neXrjuNQJu3m"
   },
   "source": [
    "# Planar Pushing Learning (100 points)\n",
    "For this assignment we will train a robot to push an object to a goal pose.\n",
    "To this end, you will have to collect dynamics data, process the data, train a model of the dynamics, and use it for planning a sequence of pushes to reach the target location.\n",
    "\n"
   ]
  },
  {
   "cell_type": "markdown",
   "metadata": {
    "id": "lV7i9hBRJu3m"
   },
   "source": [
    "## Simulation Environment Introduction\n",
    "\n",
    "For our planar pushing setup, we will use PyBullet to simulate a panda robot that pushes a block on top of a table.\n",
    "The pushing block is visualized in white. In green, we visualize the goal pose of the block.\n",
    "\n"
   ]
  },
  {
   "cell_type": "code",
   "execution_count": 7,
   "metadata": {
    "executionInfo": {
     "elapsed": 585,
     "status": "ok",
     "timestamp": 1740841262747,
     "user": {
      "displayName": "Zhiyin Xu",
      "userId": "07429917279924941177"
     },
     "user_tz": 300
    },
    "id": "erV2zuCVJu3m"
   },
   "outputs": [],
   "source": [
    "from panda_pushing_env import PandaPushingEnv\n",
    "from visualizers import GIFVisualizer, NotebookVisualizer"
   ]
  },
  {
   "cell_type": "markdown",
   "metadata": {
    "id": "x5aS7WHOJu3m"
   },
   "source": [
    "Run the following code block to visualize the robot pushing the block."
   ]
  },
  {
   "cell_type": "code",
   "execution_count": 8,
   "metadata": {
    "colab": {
     "base_uri": "https://localhost:8080/",
     "height": 685,
     "referenced_widgets": [
      "e04063a6a4d846a5ba912e01523f154d",
      "9bcde55cd29e4d649b4f9d455164e155",
      "39bd89429b3448b9a6297ad34343307d",
      "7903885093764a07bae6de5e67f95d19",
      "245c4b8accad49c190a40e439cbc56b0",
      "5537d963a8054322bbe2ac203e4f995d",
      "84e755e7bbfc469fa845ea2472663476",
      "fed7dd5d7d0248c3bda147a1432076a2",
      "d2f40df333dc4c399192d47c0b1c362c",
      "9339ab7ba2b14007a2b407f724c33862",
      "ef520334f3ef4e9eae09b9b57336a7f0"
     ]
    },
    "executionInfo": {
     "elapsed": 37964,
     "status": "ok",
     "timestamp": 1740841302262,
     "user": {
      "displayName": "Zhiyin Xu",
      "userId": "07429917279924941177"
     },
     "user_tz": 300
    },
    "id": "DFtSMG3aJu3m",
    "outputId": "5d08ec46-3081-40c3-da88-e721000f419b"
   },
   "outputs": [
    {
     "data": {
      "image/png": "[encoded data removed]",
      "text/plain": [
       "<Figure size 800x800 with 1 Axes>"
      ]
     },
     "metadata": {},
     "output_type": "display_data"
    },
    {
     "data": {
      "application/vnd.jupyter.widget-view+json": {
       "model_id": "e04063a6a4d846a5ba912e01523f154d",
       "version_major": 2,
       "version_minor": 0
      },
      "text/plain": [
       "  0%|          | 0/3 [00:00<?, ?it/s]"
      ]
     },
     "metadata": {},
     "output_type": "display_data"
    }
   ],
   "source": [
    "%matplotlib inline\n",
    "\n",
    "# Create the visualizer\n",
    "fig = plt.figure(figsize=(8,8))\n",
    "hfig = display(fig, display_id=True)\n",
    "visualizer = NotebookVisualizer(fig=fig, hfig=hfig)\n",
    "\n",
    "# Initialize the simulation environment\n",
    "env = PandaPushingEnv(visualizer=visualizer, render_non_push_motions=True,  camera_heigh=800, camera_width=800)\n",
    "env.reset()\n",
    "\n",
    "# Perform a sequence of 3 random actions:\n",
    "for i in tqdm(range(3)):\n",
    "    action_i = env.action_space.sample()\n",
    "    state, reward, done, info = env.step(action_i)\n",
    "    if done:\n",
    "        break\n",
    "\n",
    "plt.close(fig)"
   ]
  },
  {
   "cell_type": "markdown",
   "metadata": {
    "id": "tWneZEwNJu3m"
   },
   "source": [
    "For speeding up the visualization, we will only visualize the pushing part of the robot motion. However, be aware of the full robot motion."
   ]
  },
  {
   "cell_type": "markdown",
   "metadata": {
    "id": "uigbRWitJu3m"
   },
   "source": [
    "There is another option for visualization, which is to create a `.gif` file. The following cell shows an example of this. Note that here we set the rendering mode to just render the push motion for efficiency."
   ]
  },
  {
   "cell_type": "code",
   "execution_count": null,
   "metadata": {
    "colab": {
     "base_uri": "https://localhost:8080/",
     "height": 567,
     "output_embedded_package_id": "1P0F-DaZFnpuxM3KL9UBOwZ8Lvh5wMXWL",
     "referenced_widgets": [
      "f15fbbff66fe4d329de928c2099a80b4",
      "039143c376ab4080828cf669ff0db4f3",
      "f5699a8c9be2400dbe55fb39e7702110",
      "ec82c89a9adb48f597c94f7c6fc5b5f3",
      "4cd7a93f3b364cb79df6908948bc40ed",
      "2a0d35d5736d477994f2d100ad0a222f",
      "95160fca0ae54207afbd2b2598538231",
      "39c21a2655e74986a29a69295bfdf6e1",
      "f43c9334cc0041179d6541ad9aebc238",
      "85adaffac19140ef85a262dbda57beb3",
      "6b75da443d534309a998720e17281d04"
     ]
    },
    "executionInfo": {
     "elapsed": 19765,
     "status": "ok",
     "timestamp": 1740077536326,
     "user": {
      "displayName": "Zhiyin Xu",
      "userId": "07429917279924941177"
     },
     "user_tz": 300
    },
    "id": "ue3M6tfjJu3n",
    "outputId": "dc15212f-1f69-48eb-c32a-b2c202e53e10"
   },
   "outputs": [
    {
     "data": {
      "text/plain": [
       "Output hidden; open in https://colab.research.google.com to view."
      ]
     },
     "metadata": {},
     "output_type": "display_data"
    }
   ],
   "source": [
    "# Create the GIF visualizer\n",
    "visualizer = GIFVisualizer()\n",
    "\n",
    "# Initialize the simulation environment. This will only render push motions, omitting the robot reseting motions.\n",
    "env = PandaPushingEnv(visualizer=visualizer, render_non_push_motions=False, camera_heigh=500, camera_width=500, render_every_n_steps=5)\n",
    "env.reset()\n",
    "\n",
    "# Perform a sequence of 3 random actions:\n",
    "for i in tqdm(range(10)):\n",
    "    action_i = env.action_space.sample()\n",
    "    state, reward, done, info = env.step(action_i)\n",
    "    if done:\n",
    "        break\n",
    "\n",
    "# Create and visualize the gif file.\n",
    "Image(filename=visualizer.get_gif())\n",
    "\n"
   ]
  },
  {
   "cell_type": "markdown",
   "metadata": {
    "id": "-tbnJeXpJu3n"
   },
   "source": [
    "Rendering is useful for visualizing the implementation's performance and debugging. However, it consumes resources and takes time to produce. The following cell will perform 100 pushes without rendering. Compare the time with the previous rendering approaches. This should be an order of magnitude faster."
   ]
  },
  {
   "cell_type": "code",
   "execution_count": null,
   "metadata": {
    "colab": {
     "base_uri": "https://localhost:8080/",
     "height": 49,
     "referenced_widgets": [
      "8bfe60bb63624bc8bc2582052cf1abed",
      "9a69f8ec07a242d792cf04cfef738489",
      "6a0ebd387eea40e390e78c83387d2e91",
      "9ecf76976487472f9136cb23b0d3ae93",
      "f9f95c1bea714738adfb2813f2679323",
      "ff19d140ffcb4f24bfd0f1429a54ec1d",
      "600203d2d3c0492f9ea9bfcdbe236a4e",
      "c035cae112ee42cdb1cb69ed733784c6",
      "d3597127f10c4deeaa262a9b2bc80dcb",
      "1152f36b3c534e00b68b787f843dc32d",
      "3493a1b6353f45219b7cab62d0be6cbe"
     ]
    },
    "executionInfo": {
     "elapsed": 35125,
     "status": "ok",
     "timestamp": 1740077571490,
     "user": {
      "displayName": "Zhiyin Xu",
      "userId": "07429917279924941177"
     },
     "user_tz": 300
    },
    "id": "e28zXUS2Ju3n",
    "outputId": "5ff3e856-ec76-440a-d750-a75077469f31"
   },
   "outputs": [
    {
     "data": {
      "application/vnd.jupyter.widget-view+json": {
       "model_id": "8bfe60bb63624bc8bc2582052cf1abed",
       "version_major": 2,
       "version_minor": 0
      },
      "text/plain": [
       "  0%|          | 0/100 [00:00<?, ?it/s]"
      ]
     },
     "metadata": {},
     "output_type": "display_data"
    }
   ],
   "source": [
    "# Simulate pushing without rendering - this should take about 30s.\n",
    "visualizer = None # No redering\n",
    "\n",
    "env = PandaPushingEnv(visualizer=visualizer)\n",
    "env.reset()\n",
    "\n",
    "pbar =  tqdm(range(100)) # We will perform 100 pushes.\n",
    "\n",
    "for i in pbar:\n",
    "    action_i = env.action_space.sample()\n",
    "    state, reward, done, info = env.step(action_i)\n",
    "    if done:\n",
    "        env.reset()\n"
   ]
  },
  {
   "cell_type": "markdown",
   "metadata": {
    "id": "n8rxgN2xJu3n"
   },
   "source": [
    "### State Space and Action Space\n",
    "\n",
    "For the planar pushing task, we have the following action and state spaces:\n",
    "\n",
    "The image below illustrates the state space, which is the block planar location on top of the table.\n",
    "$$\n",
    "\\mathbf x = \\begin{bmatrix} x & y & \\theta\\end{bmatrix}^\\top\\in \\text{SE}(2)\n",
    "$$\n",
    "Note that the state contains only position elements, and not velocity terms. This is because we assume that the pushing task is *quasi-static*. This means that the pushing actions are slow enough that the velocity and inertia of the block are negligible. In other words, if the robot stops pushing, the block also stops.\n",
    "\n",
    "\n",
    "![State Space](https://drive.google.com/uc?export=view&id=1iuHwUC_IVsrBbgbyiR8qXDV4OBmgKObU)\n",
    "\n",
    "Note that the robot is centered at the origin.\n",
    "\n",
    "\n",
    "The following image show the robot action space.\n",
    "\n",
    "![Action Space](https://drive.google.com/uc?export=view&id=1sFyNOAj-RmNbwk_Ww8VxmmkCaW4LpVZj)\n",
    "\n",
    "Each action $\\mathbf u = \\begin{bmatrix} p & \\phi & \\ell\\end{bmatrix}^\\top\\in \\mathbb R^3$ is composed by:\n",
    "* $p \\in [-1,1]$: pushing location along the lower block edge.\n",
    "* $\\phi \\in [-\\frac{\\pi}{2},\\frac{\\pi}{2}]$ pushing angle.\n",
    "* $\\ell\\in [0,1]$ pushing length as a fraction of the maximum pushing length. The maximum pushing length is 0.1 m\n",
    "\n",
    "\n",
    "\n",
    "### Gym Environments\n",
    "\n",
    "Our planar pushing task has been wrapped into a `gym` environment. You can find more information about the gym environments [here](https://gymnasium.farama.org/api/env/).\n",
    "\n",
    "As a gym enviroment, our pushing enviroment has the following useful methods:\n",
    "\n",
    "* `step`: Given an action vector, it performs the action in the simulator and returns\n",
    "    1. `state`: The resulting state, i.e. $s_{t+1}$\n",
    "    2. `reward`: Not used here (useful for Reinforcement Learning tasks).\n",
    "    3. `done`: Boolean. In our case the simulation is done (`done=True`) if the robot has reached the goal location or if the block has left the bounds of the workspace.\n",
    "    4. `info`: Dictionary containing additional data. Not used here.\n",
    "Example:\n",
    "```python\n",
    "state, reward, done, info = env.step(action_i)\n",
    "```\n",
    "* `reset`: Resets the simulation to the initial state. It returns the inital state after reset.\n",
    "Example:\n",
    "```python\n",
    "    state = env.reset()\n",
    "```\n",
    "\n",
    "Moreover, our pushing environment has the following attributes:\n",
    "* `env.action_space`: Represents the action space, following the described parametrization above.\n",
    "* `env.observation_space`: Represents the state space (block pose in $SE(2)$)\n",
    "These are `gym.spaces` and therefore you can sample them using `.sample()`.\n",
    "Example:\n",
    "```python\n",
    "action_i = env.action_space.sample()\n",
    "```\n",
    "This produces actions uniformly sampled from the action space.\n",
    "\n",
    "You can find more info about gym spaces [here](https://gymnasium.farama.org/api/spaces/).\n",
    "\n"
   ]
  },
  {
   "cell_type": "markdown",
   "metadata": {
    "id": "HoGVvWDNJu3n"
   },
   "source": [
    "## 1 - Collect Data  (15 points)\n",
    "\n",
    "Given the environment, the first step is to collect data. The collected data will then be used to train a model of the pushing dynamics.\n",
    "\n",
    "**TODO:**\n",
    "\n",
    "* Implement `collect_data_random` in `learning_state_dynamics.py` which collects data trajectories. The actions should be uniformly random sampled within the action space limits.\n",
    "\n",
    "\n",
    "**OBSERVATION**: Data collection may take some time. Please be patient and do not close the session while you are collecting data or the data collection process may be interrupted. Once the data is collected it will be saved, so if you restart the kernel you will not need to recollect the data.\n",
    "\n",
    "\n",
    "**GRADING**: For grading you will also have to submit the saved collected data file `collected_data.npy`. We will check that the collected data is in the required format. However, we will NOT check the quality of the data. Note that for training a good model, data quality is key. Your collected data should be diverse to train an effective model of pushing dynamics.\n"
   ]
  },
  {
   "cell_type": "code",
   "execution_count": null,
   "metadata": {
    "colab": {
     "base_uri": "https://localhost:8080/"
    },
    "executionInfo": {
     "elapsed": 344074,
     "status": "ok",
     "timestamp": 1740077915565,
     "user": {
      "displayName": "Zhiyin Xu",
      "userId": "07429917279924941177"
     },
     "user_tz": 300
    },
    "id": "qlL3KCe_Ju3n",
    "outputId": "4d441e84-7c50-41e7-fd44-7773855549d7"
   },
   "outputs": [
    {
     "name": "stdout",
     "output_type": "stream",
     "text": [
      "We have collected 100 trajectories\n",
      "A data sample contains: \n",
      "\t states: numpy array of shape (11, 3)\n",
      "\t actions: numpy array of shape (10, 3)\n"
     ]
    }
   ],
   "source": [
    "# Collect data (it may take some time)\n",
    "from learning_state_dynamics import collect_data_random\n",
    "\n",
    "# Data collection parameters\n",
    "N = 100 # Number of trajectories\n",
    "T = 10 # Trajectory length\n",
    "\n",
    "# Initialize the environment and collect data\n",
    "env = PandaPushingEnv()\n",
    "env.reset()\n",
    "collected_data = collect_data_random(env, num_trajectories=N, trajectory_length=T)\n",
    "\n",
    "\n",
    "# Verify the number of data collected:\n",
    "print(f'We have collected {len(collected_data)} trajectories')\n",
    "print('A data sample contains: ')\n",
    "for k, v in collected_data[0].items():\n",
    "    assert(type(v) == np.ndarray)\n",
    "    assert(v.dtype == np.float32)\n",
    "    print(f'\\t {k}: numpy array of shape {v.shape}')\n",
    "\n",
    "# Save the collected data into a file\n",
    "np.save(os.path.join(GOOGLE_DRIVE_PATH, 'collected_data.npy'), collected_data)\n"
   ]
  },
  {
   "cell_type": "code",
   "execution_count": 10,
   "metadata": {
    "executionInfo": {
     "elapsed": 213,
     "status": "ok",
     "timestamp": 1740841313323,
     "user": {
      "displayName": "Zhiyin Xu",
      "userId": "07429917279924941177"
     },
     "user_tz": 300
    },
    "id": "9SeKsitkJu3n"
   },
   "outputs": [],
   "source": [
    "# Load the collected data:\n",
    "env = PandaPushingEnv()\n",
    "collected_data = np.load(os.path.join(GOOGLE_DRIVE_PATH, 'collected_data.npy'), allow_pickle=True)"
   ]
  },
  {
   "cell_type": "markdown",
   "metadata": {
    "id": "ebvDN1iEJu3n"
   },
   "source": [
    "## 2 - Data Processing (20 points)\n",
    "Next, given the collected data you will have to process it so we can use it for training the model.\n"
   ]
  },
  {
   "cell_type": "markdown",
   "metadata": {
    "id": "JDw3VJEcJu3n"
   },
   "source": [
    "### 2.1 - Single Step Data (10 points)\n",
    "\n",
    "Here we will process the data in a single-step format.\n",
    "\n",
    "\n",
    "**TODO:**\n",
    "\n",
    "* Implement `process_data_single_step` in `learning_state_dyanmics.py` to pack the collected data into a Dataset and returns a DataLoader for training and for validation.\n",
    "You should do this via the following steps:\n",
    " 1. Implement `SingleStepDynamicsDataset` which wraps the collected data into a PyTorch Dataset.\n",
    "    * For this part you only need to implement the `__getitem__` method which returns the data $(\\mathbf x_t, \\mathbf u_t, \\mathbf x_{t+1})$ as a dictionary\n",
    "    * Your dataset should consist of all $(\\mathbf x_t, \\mathbf u_t, \\mathbf x_{t+1})$ in the collected data\n",
    " 2. You should instantiate your `SingleStepDynamicsDataset` using the entire dataset, and use `torch.utils.data.random_split` to split the dataset into train and validation sets.  https://pytorch.org/docs/stable/data.html#torch.utils.data.random_split. You should do a 80%-20% split.\n",
    " 3. You should return a DataLoader for the training and validation set which loads batches of the data of the required `batch_size`."
   ]
  },
  {
   "cell_type": "code",
   "execution_count": 11,
   "metadata": {
    "colab": {
     "base_uri": "https://localhost:8080/"
    },
    "executionInfo": {
     "elapsed": 44,
     "status": "ok",
     "timestamp": 1740841315873,
     "user": {
      "displayName": "Zhiyin Xu",
      "userId": "07429917279924941177"
     },
     "user_tz": 300
    },
    "id": "2OicfJ0uJu3n",
    "outputId": "04d38896-7817-460b-e0c5-9ffaff8ddeda"
   },
   "outputs": [
    {
     "name": "stdout",
     "output_type": "stream",
     "text": [
      "Is the returned train_loader a DataLoader?\n",
      "Yes\n",
      "\n",
      "Was random_split used to split the data?\n",
      "Yes\n",
      "\n",
      "Is the dataset a SingleStepDynamicsDataset?\n",
      "Yes\n",
      "\n",
      "state is shape torch.Size([500, 3])\n",
      "action is shape torch.Size([500, 3])\n",
      "next_state is shape torch.Size([500, 3])\n"
     ]
    }
   ],
   "source": [
    "# Process the data\n",
    "from learning_state_dynamics import process_data_single_step, SingleStepDynamicsDataset\n",
    "\n",
    "batch_size = 500\n",
    "train_loader, val_loader = process_data_single_step(collected_data, batch_size=batch_size)\n",
    "\n",
    "# let's check your dataloader\n",
    "\n",
    "# you should return a dataloader\n",
    "print('Is the returned train_loader a DataLoader?')\n",
    "print('Yes' if isinstance(train_loader, torch.utils.data.DataLoader) else 'No')\n",
    "print('')\n",
    "\n",
    "# You should have used random split to split your data -\n",
    "# this means the validation and training sets are both subsets of an original dataset\n",
    "print('Was random_split used to split the data?')\n",
    "print('Yes' if isinstance(train_loader.dataset, torch.utils.data.Subset) else 'No')\n",
    "print('')\n",
    "\n",
    "# The original dataset should be of a SingleStepDynamicsDataset\n",
    "print('Is the dataset a SingleStepDynamicsDataset?')\n",
    "print('Yes' if isinstance(train_loader.dataset.dataset, SingleStepDynamicsDataset) else 'No')\n",
    "print('')\n",
    "\n",
    "# we should see the state, action and next state of shape (batch_size, 3)\n",
    "for item in train_loader:\n",
    "    print(f'state is shape {item[\"state\"].shape}')\n",
    "    print(f'action is shape {item[\"action\"].shape}')\n",
    "    print(f'next_state is shape {item[\"next_state\"].shape}')\n",
    "    break\n"
   ]
  },
  {
   "cell_type": "markdown",
   "metadata": {
    "id": "kB0rc0U4Ju3n"
   },
   "source": [
    "### 2.2 - Multi-step Data  (10 points)\n",
    "\n",
    "Here we will process the data in a multi-step format.\n",
    "\n",
    "\n",
    "**TODO:**\n",
    "\n",
    "* Implement `process_data_multiple_step` in `learning_state_dyanmics.py` to pack the collected data into a Dataset and return a DataLoader for training and for validation.\n",
    "You should do this via the following steps:\n",
    " 1. Implement `MultiStepDynamicsDataset` which wraps the collected data into a PyTorch Dataset.\n",
    "    * For this part you only need to implement the `__getitem__` method which returns $(\\mathbf x_t, \\mathbf u_t, ..., \\mathbf u_{t+k-1}, \\mathbf x_{t+1}, ... , \\mathbf x_{t+k})$, where $k$ is `num_steps`. We will be using `num_steps=4`.\n",
    "    * Your dataset should consist of all subtrajectories of the above form in the dataset. For instance, the trajectory $[(\\mathbf x_1,\\mathbf  u_1), (\\mathbf x_2, \\mathbf u_2), (\\mathbf x_3, \\mathbf u_3), (\\mathbf x_4, \\mathbf u_4), (\\mathbf x_5, \\mathbf u_5), (\\mathbf x_6, \\mathbf u_6), (\\mathbf x_7)]$ should result in the following items in the dataset:\n",
    "        - $(\\mathbf x_1, \\mathbf u_1, \\mathbf u_2, \\mathbf u_3, \\mathbf u_4, \\mathbf x_2, \\mathbf x_3, \\mathbf x_4, \\mathbf x_5)$\n",
    "        - $(\\mathbf x_2, \\mathbf u_2, \\mathbf u_3, \\mathbf u_4, \\mathbf u_5, \\mathbf x_3, \\mathbf x_4, \\mathbf x_5, \\mathbf x_6)$\n",
    "        - $(\\mathbf x_3, \\mathbf u_3, \\mathbf u_4, \\mathbf u_5, \\mathbf u_6, \\mathbf x_4, \\mathbf x_5, \\mathbf x_6, \\mathbf x_7)$\n",
    " 2. You should instantiate your `MultiStepDynamicsDataset` using the entire dataset, and use `torch.utils.data.random_split` to split the dataset into train and validation sets  https://pytorch.org/docs/stable/data.html#torch.utils.data.random_split. You should do a 80%-20% split.\n",
    " 3. You should return a DataLoader for the training and validation set which loads batched of the data of the required `batch_size`."
   ]
  },
  {
   "cell_type": "code",
   "execution_count": 12,
   "metadata": {
    "colab": {
     "base_uri": "https://localhost:8080/"
    },
    "executionInfo": {
     "elapsed": 16,
     "status": "ok",
     "timestamp": 1740841317952,
     "user": {
      "displayName": "Zhiyin Xu",
      "userId": "07429917279924941177"
     },
     "user_tz": 300
    },
    "id": "O_ezB12fJu3o",
    "outputId": "63af091a-913d-4f89-e6cc-c398812f45a2"
   },
   "outputs": [
    {
     "name": "stdout",
     "output_type": "stream",
     "text": [
      "Is the returned train_loader a DataLoader?\n",
      "Yes\n",
      "\n",
      "Was random_split used to split the data?\n",
      "Yes\n",
      "\n",
      "Is the dataset a SingleStepDynamicsDataset?\n",
      "Yes\n",
      "\n",
      "state is shape torch.Size([500, 3])\n",
      "action is shape torch.Size([500, 4, 3])\n",
      "next_state is shape torch.Size([500, 4, 3])\n"
     ]
    }
   ],
   "source": [
    "# Process the data\n",
    "from learning_state_dynamics import process_data_multiple_step, MultiStepDynamicsDataset\n",
    "\n",
    "\n",
    "train_loader, val_loader = process_data_multiple_step(collected_data, batch_size=500)\n",
    "\n",
    "# let's check your dataloader\n",
    "\n",
    "# you should return a dataloader\n",
    "print('Is the returned train_loader a DataLoader?')\n",
    "print('Yes' if isinstance(train_loader, torch.utils.data.DataLoader) else 'No')\n",
    "print('')\n",
    "\n",
    "# You should have used random split to split your data -\n",
    "# this means the validation and training sets are both subsets of an original dataset\n",
    "print('Was random_split used to split the data?')\n",
    "print('Yes' if isinstance(train_loader.dataset, torch.utils.data.Subset) else 'No')\n",
    "print('')\n",
    "\n",
    "# The original dataset should be of a MultiStepDynamicsDataset\n",
    "print('Is the dataset a SingleStepDynamicsDataset?')\n",
    "print('Yes' if isinstance(train_loader.dataset.dataset, MultiStepDynamicsDataset) else 'No')\n",
    "print('')\n",
    "\n",
    "# we should see the state is shape (batch_size, 3)\n",
    "# and action, next_state are shape (batch_size, num_steps, 3)\n",
    "for item in train_loader:\n",
    "    print(f'state is shape {item[\"state\"].shape}')\n",
    "    print(f'action is shape {item[\"action\"].shape}')\n",
    "    print(f'next_state is shape {item[\"next_state\"].shape}')\n",
    "    break"
   ]
  },
  {
   "cell_type": "markdown",
   "metadata": {
    "id": "8Tso_NRLJu3o"
   },
   "source": [
    "## 3 - Learn the Pushing Dynamics (35 points)\n",
    "In this part, we will train a Neural Network (NN) to model the pushing dynamics. We will formulate two approaches, absolute dynamics and residual dynamics, and compare them.\n",
    "\n",
    "You should use the training data and validation data you collected above to train this model. We have also provided a set of validation data to you in the file `validation_data.npy`. Cells for section 3.3 and 3.5 will evaluate your model with this validation data. If you find you are getting low loss on your collected data, but performing poorly on the validation data we provide, then one possibility is that your `collect_data_random` function from section 1 is not collecting a useful dataset.\n"
   ]
  },
  {
   "cell_type": "code",
   "execution_count": 13,
   "metadata": {
    "executionInfo": {
     "elapsed": 10,
     "status": "ok",
     "timestamp": 1740841322591,
     "user": {
      "displayName": "Zhiyin Xu",
      "userId": "07429917279924941177"
     },
     "user_tz": 300
    },
    "id": "hxqNlf4AJu3o"
   },
   "outputs": [],
   "source": [
    "from learning_state_dynamics import AbsoluteDynamicsModel, ResidualDynamicsModel, SE2PoseLoss, SingleStepLoss"
   ]
  },
  {
   "cell_type": "markdown",
   "metadata": {
    "id": "qDquuQarJu3o"
   },
   "source": [
    "### 3.1 - Absolute Dynamics Learning (20 points)\n",
    "Given the collected data triplets $(\\mathbf x_{t} , \\mathbf u_{t}, \\mathbf x_{t+1})$ we will learn to predict the state transition dynamics\n",
    "\n",
    "$$\\hat{\\mathbf x}_{t+1} = f(\\mathbf x_{t} , \\mathbf u_{t}) $$\n",
    "\n",
    "**TODO:**\n",
    "\n",
    "1. In `learning_state_dynamics.py` implement `AbsoluteDynamicsModel`.\n",
    "    * The model architecture will be a 3 linear layer NN with hidden sizes of 100 and ReLU activations.\n",
    "2. Implement `SE2PoseLoss` in `learning_state_dynamics.py` to compute the loss of a $SE(2)$ state.\n",
    "    * Its `forward` method computes the loss between two batched sets of $SE(2)$ transformations.\n",
    "    * SE(2) vectors contain two position elements and one orientation element, i.e. $\\mathbf q = \\begin{bmatrix}x & y & \\theta\\end{bmatrix}^\\top \\in SE(2)$\n",
    "    * To combine the different dimensions of pose and orientation, here we will exploit the fact that we know the object geometry. The error in orientation can be converted to error in position using the *radius of gyration* [https://en.wikipedia.org/wiki/Radius_of_gyration]. Since the object is a rectangle of width $w$ and length $l$, the radius of gyration is:\n",
    "    $$\n",
    "    r_g = \\sqrt{\\frac{w^2 + l^2}{12}}\n",
    "    $$\n",
    "\n",
    "    Therefore, to compare two poses  $\\mathbf q_1 = \\begin{bmatrix}x_1 & y_1 & \\theta_1\\end{bmatrix}^\\top, \\mathbf q_2 = \\begin{bmatrix}x_2 & y_2 & \\theta_2\\end{bmatrix}^\\top, \\mathbf q_1, \\mathbf q_2 \\in SE(2)$ , we can do so as:\n",
    "\n",
    "    $$\n",
    "    \\mathcal L(\\mathbf q_1, \\mathbf q_2) = \\text{MSE}(x_1, x_2) + \\text{MSE}(y_1, y_2) + r_g \\text{MSE}(\\theta_1, \\theta_2)\n",
    "    $$\n",
    "    $$\n",
    "    \\\\\n",
    "    $$\n",
    "\n",
    "3. Implement `SingleStepLoss.forward` in `learning_state_dynamics.py`. This method will perform a prediction with the model and computes the loss using the above loss function.\n",
    "3. Train the model and save it as `pushing_absolute_dynamics_model.pt`. You will also have to submit this file.\n",
    "\n",
    "HINT:\n",
    "* You can reuse code from HW1 for training and evaluation of the models - you may need to make some slight modifications\n",
    "* You should expect to see training and validation losses on your collected dataset on the order of $5 \\times 10^{-4}$"
   ]
  },
  {
   "cell_type": "code",
   "execution_count": null,
   "metadata": {
    "colab": {
     "base_uri": "https://localhost:8080/",
     "height": 306,
     "referenced_widgets": [
      "259740814a6c4cedae052de2f0720de9",
      "aa35e890ffe545e4820799f3e1e15e22",
      "6f82a352103e43b18163e4952e0b3b8d",
      "56da49adf11d46b9bd08b61b82959590",
      "4af88f4860ac4b92a8d32a644d296943",
      "64d564f9778749d8acc0450891b494d6",
      "eb3d4314bd864586b61d67be4e45b7fe",
      "3398d65669f249fdadf808e71b3fba83",
      "c507807a2d2b4ba296c4315fc74b31f3",
      "71c513d42b47429d900ed4a3eb65bd20",
      "d09a417d24134eadae738793171d473a"
     ]
    },
    "executionInfo": {
     "elapsed": 38655,
     "status": "ok",
     "timestamp": 1740587777894,
     "user": {
      "displayName": "Zhiyin Xu",
      "userId": "07429917279924941177"
     },
     "user_tz": 300
    },
    "id": "hy9x6FPIJu3o",
    "outputId": "e89e2787-49cc-4e63-d726-ba725417c31b"
   },
   "outputs": [
    {
     "data": {
      "application/vnd.jupyter.widget-view+json": {
       "model_id": "259740814a6c4cedae052de2f0720de9",
       "version_major": 2,
       "version_minor": 0
      },
      "text/plain": [
       "  0%|          | 0/1000 [00:00<?, ?it/s]"
      ]
     },
     "metadata": {},
     "output_type": "display_data"
    },
    {
     "data": {
      "image/png": "[encoded data removed]",
      "text/plain": [
       "<Figure size 1200x300 with 2 Axes>"
      ]
     },
     "metadata": {},
     "output_type": "display_data"
    }
   ],
   "source": [
    "# Train the dynamics model\n",
    "pushing_absolute_dynamics_model = AbsoluteDynamicsModel(3,3)\n",
    "\n",
    "train_loader, val_loader = process_data_single_step(collected_data)\n",
    "\n",
    "pose_loss = SE2PoseLoss(block_width=0.1, block_length=0.1)\n",
    "pose_loss = SingleStepLoss(pose_loss)\n",
    "\n",
    "# --- Your code here\n",
    "\n",
    "def train_step(model, train_loader, optimizer) -> float:\n",
    "    \"\"\"\n",
    "    Performs an epoch train step.\n",
    "    :param model: Pytorch nn.Module\n",
    "    :param train_loader: Pytorch DataLoader\n",
    "    :param optimizer: Pytorch optimizer\n",
    "    :return: train_loss <float> representing the average loss among the different mini-batches.\n",
    "        Loss needs to be MSE loss.\n",
    "    \"\"\"\n",
    "    train_loss = 0. # TODO: Modify the value\n",
    "    # Initialize the train loop\n",
    "    model.train()\n",
    "    for batch_idx, batch in enumerate(train_loader):\n",
    "        state = batch['state']\n",
    "        action = batch['action']\n",
    "        next_state_gth = batch['next_state']\n",
    "        optimizer.zero_grad()\n",
    "        loss = pose_loss(model, state, action, next_state_gth)\n",
    "        loss.backward()\n",
    "        optimizer.step()\n",
    "        train_loss += loss.item()\n",
    "    return train_loss/len(train_loader)\n",
    "\n",
    "\n",
    "def val_step(model, val_loader) -> float:\n",
    "    \"\"\"\n",
    "    Perfoms an epoch of model performance validation\n",
    "    :param model: Pytorch nn.Module\n",
    "    :param train_loader: Pytorch DataLoader\n",
    "    :param optimizer: Pytorch optimizer\n",
    "    :return: val_loss <float> representing the average loss among the different mini-batches\n",
    "    \"\"\"\n",
    "    val_loss = 0. # TODO: Modify the value\n",
    "    # Initialize the validation loop\n",
    "    model.eval()\n",
    "    for batch_idx, batch in enumerate(val_loader):\n",
    "        loss = None\n",
    "        state = batch['state']\n",
    "        action = batch['action']\n",
    "        next_state_gth = batch['next_state']\n",
    "        loss = pose_loss(model, state, action, next_state_gth)\n",
    "        val_loss += loss.item()\n",
    "    return val_loss/len(val_loader)\n",
    "\n",
    "\n",
    "def train_model(model, train_dataloader, val_dataloader, num_epochs=100, lr=1e-3):\n",
    "    \"\"\"\n",
    "    Trains the given model for `num_epochs` epochs. Use SGD as an optimizer.\n",
    "    You may need to use `train_step` and `val_step`.\n",
    "    :param model: Pytorch nn.Module.\n",
    "    :param train_dataloader: Pytorch DataLoader with the training data.\n",
    "    :param val_dataloader: Pytorch DataLoader with the validation data.\n",
    "    :param num_epochs: <int> number of epochs to train the model.\n",
    "    :param lr: <float> learning rate for the weight update.\n",
    "    :return:\n",
    "    \"\"\"\n",
    "    optimizer = None\n",
    "    # Initialize the optimizer\n",
    "    optimizer = optim.Adam(model.parameters(), lr=lr)\n",
    "    pbar = tqdm(range(num_epochs))\n",
    "    train_losses = []\n",
    "    val_losses = []\n",
    "    for epoch_i in pbar:\n",
    "        train_loss_i = None\n",
    "        val_loss_i = None\n",
    "        train_loss_i = train_step(model, train_dataloader, optimizer)\n",
    "        val_loss_i = val_step(model, val_dataloader)\n",
    "        pbar.set_description(f'Train Loss: {train_loss_i:.4f} | Validation Loss: {val_loss_i:.4f}')\n",
    "        train_losses.append(train_loss_i)\n",
    "        val_losses.append(val_loss_i)\n",
    "    return train_losses, val_losses\n",
    "\n",
    "\n",
    "\n",
    "LR = 0.001\n",
    "NUM_EPOCHS = 1000\n",
    "\n",
    "train_losses, val_losses = train_model(pushing_absolute_dynamics_model, train_loader, val_loader, num_epochs=NUM_EPOCHS, lr=LR)\n",
    "\n",
    "\n",
    "# plot train loss and test loss:\n",
    "fig, axes = plt.subplots(nrows=1, ncols=2, figsize=(12, 3))\n",
    "axes[0].plot(train_losses)\n",
    "axes[0].grid()\n",
    "axes[0].set_title('Train Loss')\n",
    "axes[0].set_xlabel('Epochs')\n",
    "axes[0].set_ylabel('Train Loss')\n",
    "axes[0].set_yscale('log')\n",
    "axes[1].plot(val_losses)\n",
    "axes[1].grid()\n",
    "axes[1].set_title('Validation Loss')\n",
    "axes[1].set_xlabel('Epochs')\n",
    "axes[1].set_ylabel('Validation Loss')\n",
    "axes[1].set_yscale('log')\n",
    "\n",
    "# ---\n",
    "\n",
    "# save model:\n",
    "save_path = os.path.join(GOOGLE_DRIVE_PATH, 'pushing_absolute_dynamics_model.pt')\n",
    "torch.save(pushing_absolute_dynamics_model.state_dict(), save_path)\n",
    "\n"
   ]
  },
  {
   "cell_type": "markdown",
   "metadata": {
    "id": "MX0bWwpsJu3o"
   },
   "source": [
    "### 3.2 - Residual Dynamics Learning (10 points)\n",
    "Given the collected data triplets $(\\mathbf x_{t} , \\mathbf u_{t}, \\mathbf x_{t+1})$ we will learn to predict the state transition dynamics\n",
    "\n",
    "$$ \\hat{\\mathbf x}_{t+1} = \\mathbf x_{t} + \\Delta \\mathbf x_{t} =  \\mathbf x_{t} + f(\\mathbf x_{t}, \\mathbf u_{t}) $$\n",
    "\n",
    "\n",
    "**TODO:**\n",
    "\n",
    "1. In `learning_state_dynamics.py` implement `ResidualDynamicsModel`.\n",
    "    * Its `forward` method should compute $\\hat{\\mathbf x}_{t+1}$ . Here, the network will output $\\Delta \\mathbf x_{t}$, which will need to be added to $\\mathbf x_t$ to obtain $\\hat{\\mathbf x}_{t+1}$\n",
    "    * The model architecture will be a 3 linear layer NN with hidden sizes of 100 and ReLU activations.\n",
    "2. Train the model and save it as `pushing_residual_dynamics_model.pt`. You will also have to submit this file.\n",
    "\n",
    "HINT:\n",
    "* Similar to above, you should expect to see training and validation losses on your collected dataset on the order of $5 \\times 10^{-4}$."
   ]
  },
  {
   "cell_type": "code",
   "execution_count": null,
   "metadata": {
    "colab": {
     "base_uri": "https://localhost:8080/",
     "height": 306,
     "referenced_widgets": [
      "df7b9a73c75748179793a8e9d4e9bf7b",
      "2fc9b9ce3ff54e50bf70ec67ea3ca755",
      "7024a766b7614379a30ae2b1cc28414e",
      "0ec521334c284c739a576fce8a8a786c",
      "061801c181a0403a92dcdb71510744be",
      "a62fe7a08ed44a7d9af0e4ca2749e961",
      "a65784a613ea49849c3707aa9cb6375e",
      "625bbdb6976946a8bd7ed70556a8fa8a",
      "ac302e55830547e0ad3e144e0562376b",
      "2049962d4bfc4f8faa95709fa13b6f8a",
      "7455a729689142cd91123a470bcd4b54"
     ]
    },
    "executionInfo": {
     "elapsed": 27970,
     "status": "ok",
     "timestamp": 1740588526258,
     "user": {
      "displayName": "Zhiyin Xu",
      "userId": "07429917279924941177"
     },
     "user_tz": 300
    },
    "id": "qI9IsMdaJu3o",
    "outputId": "2f821daf-22cb-4b17-cdbc-1ef7b37584c5"
   },
   "outputs": [
    {
     "data": {
      "application/vnd.jupyter.widget-view+json": {
       "model_id": "df7b9a73c75748179793a8e9d4e9bf7b",
       "version_major": 2,
       "version_minor": 0
      },
      "text/plain": [
       "  0%|          | 0/1000 [00:00<?, ?it/s]"
      ]
     },
     "metadata": {},
     "output_type": "display_data"
    },
    {
     "data": {
      "image/png": "[encoded data removed]",
      "text/plain": [
       "<Figure size 1200x300 with 2 Axes>"
      ]
     },
     "metadata": {},
     "output_type": "display_data"
    }
   ],
   "source": [
    "pushing_residual_dynamics_model = None\n",
    "train_loader, val_loader = process_data_single_step(collected_data)\n",
    "\n",
    "pose_loss = SE2PoseLoss(block_width=0.1, block_length=0.1)\n",
    "pose_loss = SingleStepLoss(pose_loss)\n",
    "\n",
    "# --- Your code here\n",
    "pushing_residual_dynamics_model = ResidualDynamicsModel(env.observation_space.shape[0], env.action_space.shape[0])\n",
    "\n",
    "LR = 0.001\n",
    "NUM_EPOCHS = 1000\n",
    "train_losses, val_losses = train_model(pushing_residual_dynamics_model, train_loader, val_loader, num_epochs=NUM_EPOCHS, lr=LR)\n",
    "\n",
    "\n",
    "# plot train loss and test loss:\n",
    "fig, axes = plt.subplots(nrows=1, ncols=2, figsize=(12, 3))\n",
    "axes[0].plot(train_losses)\n",
    "axes[0].grid()\n",
    "axes[0].set_title('Train Loss')\n",
    "axes[0].set_xlabel('Epochs')\n",
    "axes[0].set_ylabel('Train Loss')\n",
    "axes[0].set_yscale('log')\n",
    "axes[1].plot(val_losses)\n",
    "axes[1].grid()\n",
    "axes[1].set_title('Validation Loss')\n",
    "axes[1].set_xlabel('Epochs')\n",
    "axes[1].set_ylabel('Validation Loss')\n",
    "axes[1].set_yscale('log')\n",
    "\n",
    "# ---\n",
    "\n",
    "# save model:\n",
    "save_path = os.path.join(GOOGLE_DRIVE_PATH, 'pushing_residual_dynamics_model.pt')\n",
    "torch.save(pushing_residual_dynamics_model.state_dict(), save_path)"
   ]
  },
  {
   "cell_type": "markdown",
   "metadata": {
    "id": "YQw4jWCyJu3o"
   },
   "source": [
    "### 3.3 - Absolute Dynamics vs Residual Dynamics (No points)\n",
    "In this section we will compare the performance of the absolute dynamics model and the residual dynamics model with test data that we provide you.\n",
    "\n",
    "Which one performs better? Why is that the case?\n",
    "\n",
    "You should see both losses be below $5 \\times 10^{-4}$"
   ]
  },
  {
   "cell_type": "code",
   "execution_count": null,
   "metadata": {
    "colab": {
     "base_uri": "https://localhost:8080/"
    },
    "executionInfo": {
     "elapsed": 615,
     "status": "ok",
     "timestamp": 1740588692246,
     "user": {
      "displayName": "Zhiyin Xu",
      "userId": "07429917279924941177"
     },
     "user_tz": 300
    },
    "id": "okl1IXLbJu3o",
    "outputId": "24a1d523-b9b3-4dd0-9044-2cc92fdad4a3"
   },
   "outputs": [
    {
     "name": "stdout",
     "output_type": "stream",
     "text": [
      "Validation loss for absolute dynamics model is 0.00014493368507828563\n",
      "Validation loss for residual dynamics model is 7.66481680329889e-05\n"
     ]
    }
   ],
   "source": [
    "val_dataset = SingleStepDynamicsDataset(np.load('/content/drive/MyDrive/ROB498/hw/HW3/validation_data.npy', allow_pickle=True))\n",
    "val_loader = torch.utils.data.DataLoader(val_dataset, batch_size=len(val_dataset))\n",
    "\n",
    "pose_loss = SE2PoseLoss(block_width=0.1, block_length=0.1)\n",
    "pose_loss = SingleStepLoss(pose_loss)\n",
    "\n",
    "loss_absolute = 0.0\n",
    "loss_residual = 0.0\n",
    "\n",
    "for item in val_loader:\n",
    "    loss_absolute += pose_loss(pushing_absolute_dynamics_model, item['state'], item['action'], item['next_state'])\n",
    "    loss_residual += pose_loss(pushing_residual_dynamics_model, item['state'], item['action'], item['next_state'])\n",
    "\n",
    "print(f'Validation loss for absolute dynamics model is {loss_absolute}')\n",
    "print(f'Validation loss for residual dynamics model is {loss_residual}')"
   ]
  },
  {
   "cell_type": "markdown",
   "metadata": {
    "id": "gzv51TdFJu3u"
   },
   "source": [
    "### 3.4 Multi-step Loss (10 points)\n",
    "\n",
    "In this section you will train a residual dynamics model using a recursive multistep loss, as shown in the lectures.\n",
    "\n",
    "**TODO**:\n",
    "Implement `MultiStepLoss` in `learning_state_dynamics.py`\n",
    "* The parameter `discount` is the same as $\\lambda$ from the lectures.\n",
    "* HINT: You may need to reduce the learning rate and train for slightly longer for the multi-step loss"
   ]
  },
  {
   "cell_type": "code",
   "execution_count": null,
   "metadata": {
    "colab": {
     "base_uri": "https://localhost:8080/",
     "height": 305,
     "referenced_widgets": [
      "498c5a8fdc6f48cb91585853bae55cf9",
      "b5f88562ca09438e9ef8c3dd68c0af1c",
      "5395a10b7dcb4cdea6c3807fe7fcff81",
      "002add8ab88b4f9c8998123dedc551f2",
      "e1eb9dfcc5c84b588cb77936d3d35bbb",
      "a4e35c30c21c4e53a4e38f5ca86d6c67",
      "696b38f2486846e3bdbab69c350c46ee",
      "4bd1f33a1f034703aa411939abc1ebe8",
      "f526360e72e04a18989c9b5f623c50ab",
      "d62273d9c88149f1aec22d0b78d31834",
      "e89434e9dd9248bcb3bfbef991e02906"
     ]
    },
    "executionInfo": {
     "elapsed": 353472,
     "status": "ok",
     "timestamp": 1740589047840,
     "user": {
      "displayName": "Zhiyin Xu",
      "userId": "07429917279924941177"
     },
     "user_tz": 300
    },
    "id": "gceRobwfJu3u",
    "outputId": "4a5078a1-a95c-435d-9014-554d04a1d29a"
   },
   "outputs": [
    {
     "data": {
      "application/vnd.jupyter.widget-view+json": {
       "model_id": "498c5a8fdc6f48cb91585853bae55cf9",
       "version_major": 2,
       "version_minor": 0
      },
      "text/plain": [
       "  0%|          | 0/10000 [00:00<?, ?it/s]"
      ]
     },
     "metadata": {},
     "output_type": "display_data"
    },
    {
     "data": {
      "image/png": "[encoded data removed]",
      "text/plain": [
       "<Figure size 1200x300 with 2 Axes>"
      ]
     },
     "metadata": {},
     "output_type": "display_data"
    }
   ],
   "source": [
    "# Train the dynamics model\n",
    "from learning_state_dynamics import MultiStepLoss, process_data_multiple_step\n",
    "pushing_multistep_residual_dynamics_model = None\n",
    "train_loader, val_loader = process_data_multiple_step(collected_data, batch_size=500)\n",
    "\n",
    "pose_loss = SE2PoseLoss(block_width=0.1, block_length=0.1)\n",
    "pose_loss = MultiStepLoss(pose_loss, discount=0.9)\n",
    "\n",
    "# --- Your code here\n",
    "pushing_multistep_residual_dynamics_model = ResidualDynamicsModel(env.observation_space.shape[0], env.action_space.shape[0])\n",
    "\n",
    "LR = 0.0001\n",
    "NUM_EPOCHS = 10000\n",
    "\n",
    "train_losses, val_losses = train_model(pushing_multistep_residual_dynamics_model, train_loader, val_loader, num_epochs=NUM_EPOCHS, lr=LR)\n",
    "\n",
    "\n",
    "# plot train loss and test loss:\n",
    "fig, axes = plt.subplots(nrows=1, ncols=2, figsize=(12, 3))\n",
    "axes[0].plot(train_losses)\n",
    "axes[0].grid()\n",
    "axes[0].set_title('Train Loss')\n",
    "axes[0].set_xlabel('Epochs')\n",
    "axes[0].set_ylabel('Train Loss')\n",
    "axes[0].set_yscale('log')\n",
    "axes[1].plot(val_losses)\n",
    "axes[1].grid()\n",
    "axes[1].set_title('Validation Loss')\n",
    "axes[1].set_xlabel('Epochs')\n",
    "axes[1].set_ylabel('Validation Loss')\n",
    "axes[1].set_yscale('log')\n",
    "\n",
    "# ---\n",
    "\n",
    "# save model:\n",
    "save_path = os.path.join(GOOGLE_DRIVE_PATH, 'pushing_multi_step_residual_dynamics_model.pt')\n",
    "torch.save(pushing_multistep_residual_dynamics_model.state_dict(), save_path)"
   ]
  },
  {
   "cell_type": "markdown",
   "metadata": {
    "id": "UvY1PFVMJu3u"
   },
   "source": [
    "### 3.5 - Multistep vs Single Step Loss (No points)\n",
    "In this section we will compare the performance of the multi-step and single-step loss for the residual dynamics model with test data that we provide you.\n",
    "\n",
    "You should see that the multi-step trained model performs similarly to the single-step trained model when evaluated on the single-step loss. As above, this loss should be below $5 \\times 10^{-4}$.\n",
    "\n",
    "You might notice that the multi-step loss in this example does not actually lead to better performance for multi-step prediction. This is nothing to be concerned about. Whether or not a multi-step loss is required for good multi-step performance depends on the specific problem.\n"
   ]
  },
  {
   "cell_type": "code",
   "execution_count": null,
   "metadata": {
    "colab": {
     "base_uri": "https://localhost:8080/"
    },
    "executionInfo": {
     "elapsed": 683,
     "status": "ok",
     "timestamp": 1740589051013,
     "user": {
      "displayName": "Zhiyin Xu",
      "userId": "07429917279924941177"
     },
     "user_tz": 300
    },
    "id": "T1BV1wEQJu3u",
    "outputId": "b8459950-efd3-4d1a-bd2d-61b7f317bfd7"
   },
   "outputs": [
    {
     "name": "stdout",
     "output_type": "stream",
     "text": [
      "Validation single-step loss for model trained on single-step loss 7.66481680329889e-05\n",
      "Validation single-step loss for model trained on multi-step loss 7.408764213323593e-05\n",
      "\n",
      "Validation multi-step loss for model trained on single-step loss 0.0002102604485116899\n",
      "Validation multi-step loss for model trained on multi-step loss 0.00020604406017810106\n"
     ]
    }
   ],
   "source": [
    "val_dataset = SingleStepDynamicsDataset(np.load('/content/drive/MyDrive/ROB498/hw/HW3/validation_data.npy', allow_pickle=True))\n",
    "val_loader = torch.utils.data.DataLoader(val_dataset, batch_size=len(val_dataset))\n",
    "\n",
    "num_steps = 4\n",
    "val_multistep_dataset = MultiStepDynamicsDataset(np.load('/content/drive/MyDrive/ROB498/hw/HW3/validation_data.npy', allow_pickle=True), num_steps=num_steps)\n",
    "val_multistep_loader = torch.utils.data.DataLoader(val_multistep_dataset, batch_size=len(val_multistep_dataset))\n",
    "\n",
    "pose_loss = SE2PoseLoss(block_width=0.1, block_length=0.1)\n",
    "multistep_pose_loss = MultiStepLoss(pose_loss, discount=1)\n",
    "pose_loss = SingleStepLoss(pose_loss)\n",
    "\n",
    "\n",
    "single_step_loss_single_step_model = 0.0\n",
    "single_step_loss_multi_step_model = 0.0\n",
    "\n",
    "for item in val_loader:\n",
    "    single_step_loss_single_step_model += \\\n",
    "        pose_loss(pushing_residual_dynamics_model, item['state'], item['action'], item['next_state'])\n",
    "\n",
    "    single_step_loss_multi_step_model += \\\n",
    "        pose_loss(pushing_multistep_residual_dynamics_model, item['state'], item['action'], item['next_state'])\n",
    "\n",
    "print(f'Validation single-step loss for model trained on single-step loss {single_step_loss_single_step_model}')\n",
    "print(f'Validation single-step loss for model trained on multi-step loss {single_step_loss_multi_step_model}')\n",
    "\n",
    "multi_step_loss_single_step_model = 0.0\n",
    "multi_step_loss_multi_step_model = 0.0\n",
    "\n",
    "for item in val_multistep_loader:\n",
    "    multi_step_loss_single_step_model += \\\n",
    "        multistep_pose_loss(pushing_residual_dynamics_model, item['state'], item['action'], item['next_state'])\n",
    "\n",
    "    multi_step_loss_multi_step_model += \\\n",
    "        multistep_pose_loss(pushing_multistep_residual_dynamics_model, item['state'], item['action'], item['next_state'])\n",
    "print('')\n",
    "print(f'Validation multi-step loss for model trained on single-step loss {multi_step_loss_single_step_model / num_steps}')\n",
    "print(f'Validation multi-step loss for model trained on multi-step loss {multi_step_loss_multi_step_model / num_steps}')"
   ]
  },
  {
   "cell_type": "markdown",
   "metadata": {
    "id": "Sm7KPMhLJu3u"
   },
   "source": [
    "## 4 - Use the Learned Dynamics Model for Planning and Controls (30 points)\n",
    "\n",
    "**Please note - the file `mppi.py` will be released on the course website on 02/24/2025. You will not be able to complete this section until then.**\n",
    "\n",
    "\n",
    "Finally, once we have a good model of the pushing dynamics, we can use it to plan a sequence of actions to reach the goal configuration.\n",
    "\n",
    "To do so, we will be using MPPI as our controller. It will rollout the trajectories using the learned dynamics model from the previous section. Since in HW2 you already implemented MPPI, here we are giving you the implmentation. You will just have to implement the cost function and some other minor parts. We are also giving you some good initialization for the hyperparametes. However, you may need to tune them for your model and cost function implementations.\n",
    "\n",
    "You should use the `pushing_multistep_residual_dynamics_model` you trained previously as the dynamics model to complete this question.  \n"
   ]
  },
  {
   "cell_type": "code",
   "execution_count": null,
   "metadata": {
    "id": "R0D_IDaYJu3u"
   },
   "outputs": [],
   "source": [
    "from learning_state_dynamics import PushingController, free_pushing_cost_function, collision_detection, obstacle_avoidance_pushing_cost_function\n",
    "from panda_pushing_env import TARGET_POSE_FREE, TARGET_POSE_OBSTACLES, BOX_SIZE"
   ]
  },
  {
   "cell_type": "markdown",
   "metadata": {
    "id": "oXaPtuT9Ju3u"
   },
   "source": [
    "### 4.1 - Obstacle-Free Pushing (15 points)\n",
    "In this first part, we will consider the task of pushing an object to a goal pose with no obstacles on the table. We will use the following quadratic cost:\n",
    "\n",
    "$$\\text{Cost}(\\mathbf x_1, ..., \\mathbf x_T) = \\sum^T_{t=1} (\\mathbf x_t - \\mathbf x_{goal})^T Q (\\mathbf x_t - \\mathbf x_{goal})$$\n",
    "\n",
    "with\n",
    "$$ Q = \\begin{bmatrix}\n",
    "1 & 0 & 0 \\\\\n",
    "0 & 1 & 0 \\\\\n",
    "0 & 0 & 0.1\n",
    "\\end{bmatrix}$$\n",
    "**TODO:**\n",
    "* Implement `free_pushing_cost_function` in `learning_state_dynamics.py`.\n",
    "  This function should compute the state cost for MPPI as defined above.  \n",
    "* Complete the MPPI-based controller classs `PushingController` in `learning_state_dynamics.py`.\n",
    "  You need to implement:\n",
    "   * Tune MPPI controller hyperparameters in the `__init__` method.\n",
    "   * Implement the `_compute_dynamics` method which should compute `next_state` from `state` and `action`.\n",
    "   * Implement the `control` method which should return the `action` from a `state`.\n",
    "   \n",
    "Read all docstrings carefully for details about the expected inputs, outputs and uses.\n",
    "\n",
    "You should expect to see the robot pushing the block directly to the goal, typically finishing this task in fewer than 10 steps.\n"
   ]
  },
  {
   "cell_type": "code",
   "execution_count": null,
   "metadata": {
    "colab": {
     "base_uri": "https://localhost:8080/",
     "height": 703,
     "referenced_widgets": [
      "ad095b33bf2746a2abb7734696c44d76",
      "3e374a76524043c586cee0965ef953cc",
      "d4ff54fb178d4f7abebe7e212a559761",
      "958577028c034628a4297e8af9262409",
      "2fb38d3fc0904f1b93c94b10469cc5a5",
      "23de7389c6084800af3136c0aefa6b1d",
      "42bf6b3649d0401a8df64f1837140516",
      "38ab177a5dec4f3089142fd949a5653c",
      "92618d20e1e34e60879aeb40f87e097d",
      "e07833385385424b81ba7cedb6b89957",
      "c46b0aab94244263bcc42f43512d7c6e"
     ]
    },
    "executionInfo": {
     "elapsed": 14068,
     "status": "ok",
     "timestamp": 1740594242449,
     "user": {
      "displayName": "Zhiyin Xu",
      "userId": "07429917279924941177"
     },
     "user_tz": 300
    },
    "id": "ygyjKMvxJu3u",
    "outputId": "1ee00082-ba77-42fc-95bc-d3993dd19157"
   },
   "outputs": [
    {
     "data": {
      "image/png": "[encoded data removed]",
      "text/plain": [
       "<Figure size 800x800 with 1 Axes>"
      ]
     },
     "metadata": {},
     "output_type": "display_data"
    },
    {
     "data": {
      "application/vnd.jupyter.widget-view+json": {
       "model_id": "ad095b33bf2746a2abb7734696c44d76",
       "version_major": 2,
       "version_minor": 0
      },
      "text/plain": [
       "  0%|          | 0/20 [00:00<?, ?it/s]"
      ]
     },
     "metadata": {},
     "output_type": "display_data"
    },
    {
     "name": "stdout",
     "output_type": "stream",
     "text": [
      "GOAL REACHED: True\n"
     ]
    }
   ],
   "source": [
    "# Control on an obstacle free environment\n",
    "%matplotlib inline\n",
    "\n",
    "fig = plt.figure(figsize=(8,8))\n",
    "hfig = display(fig, display_id=True)\n",
    "visualizer = NotebookVisualizer(fig=fig, hfig=hfig)\n",
    "\n",
    "\n",
    "env = PandaPushingEnv(visualizer=visualizer, render_non_push_motions=False,  camera_heigh=800, camera_width=800, render_every_n_steps=5)\n",
    "controller = PushingController(env, pushing_residual_dynamics_model, free_pushing_cost_function, num_samples=100, horizon=10)\n",
    "env.reset()\n",
    "\n",
    "state_0 = env.reset()\n",
    "state = state_0\n",
    "\n",
    "# num_steps_max = 100\n",
    "num_steps_max = 20\n",
    "\n",
    "for i in tqdm(range(num_steps_max)):\n",
    "    action = controller.control(state)\n",
    "    state, reward, done, _ = env.step(action)\n",
    "    if done:\n",
    "        break\n",
    "\n",
    "\n",
    "# Evaluate if goal is reached\n",
    "end_state = env.get_state()\n",
    "target_state = TARGET_POSE_FREE\n",
    "goal_distance = np.linalg.norm(end_state[:2]-target_state[:2]) # evaluate only position, not orientation\n",
    "goal_reached = goal_distance < BOX_SIZE\n",
    "\n",
    "print(f'GOAL REACHED: {goal_reached}')\n",
    "\n",
    "\n",
    "plt.close(fig)\n",
    "\n",
    "\n"
   ]
  },
  {
   "cell_type": "markdown",
   "metadata": {
    "id": "rmJfPGo1Ju3u"
   },
   "source": [
    "### 4.2 - Pushing with Obstacles (15 points)\n",
    "Now, we will repeat the task but adding an obstacle to the scene. The goal is to push the block to the goal while avoiding the obstacle.\n",
    "You will have to first implement a basic collision detection algorithm.\n",
    "\n",
    "Then, you will have to use the collision detection inside the cost function to assign high cost to in-collision trajectories"
   ]
  },
  {
   "cell_type": "markdown",
   "metadata": {
    "id": "THGFEIsOJu3u"
   },
   "source": [
    "#### 4.2.1 - Collision Detection Function (5 points)\n",
    "\n",
    "The obstacle we are considering is a rectangle. At a given SE2 pose $[x, y, \\theta]$ we can check collision by checking whether or not these two rectangles intersect.\n",
    "\n",
    "![Action Space](https://drive.google.com/uc?export=view&id=1yC2SxtbtmhInkYk-rzR2TAAYuD4JM-I0)\n",
    "\n",
    "**TODO:**\n",
    "* Implement `collision_detection` in `learning_state_dynamics.py`.\n",
    "* The relevant parameters $(w, w_{obs} l_{obs}, x_{obs}, y_{obs})$ are already specified inside the function as `box_size`, `obstacle_dims`, and `obstacle_centre`.\n"
   ]
  },
  {
   "cell_type": "code",
   "execution_count": null,
   "metadata": {
    "colab": {
     "base_uri": "https://localhost:8080/"
    },
    "executionInfo": {
     "elapsed": 1066,
     "status": "ok",
     "timestamp": 1740597434849,
     "user": {
      "displayName": "Zhiyin Xu",
      "userId": "07429917279924941177"
     },
     "user_tz": 300
    },
    "id": "yxwb1ZXaJu3u",
    "outputId": "086d8ae2-a523-4a6e-81aa-30bf7957dd5e"
   },
   "outputs": [
    {
     "name": "stdout",
     "output_type": "stream",
     "text": [
      "First state in collision? 1.0\n",
      "Second state in collision? 0.0\n"
     ]
    }
   ],
   "source": [
    "from learning_state_dynamics import collision_detection\n",
    "\n",
    "# let's test the collision detection with two states\n",
    "# The first should be in collision, the second should not\n",
    "\n",
    "states = torch.tensor([\n",
    "    [0.6, 0.2, 0.0],\n",
    "    [0.3, 0.15, 0.7]\n",
    "])\n",
    "\n",
    "collision = collision_detection(states)\n",
    "\n",
    "print(f'First state in collision? {collision[0]}')\n",
    "print(f'Second state in collision? {collision[1]}')\n"
   ]
  },
  {
   "cell_type": "markdown",
   "metadata": {
    "id": "GrOrh3_RJu3u"
   },
   "source": [
    "#### 4.2.2 - Cost Function for Obstacle Avoidance (10 points)\n",
    "\n",
    "You should implement a new cost function to reach the goal while avoiding the obstacle. The cost should be\n",
    "$$\\text{Cost}(\\mathbf x_1, ..., \\mathbf x_T) = \\sum^T_{t=1} \\left((\\mathbf x_t - \\mathbf x_{goal})^T Q (\\mathbf x_t - \\mathbf x_{goal}) + 100 \\texttt{in\\_collision}(\\mathbf x_t)\\right)$$\n",
    "\n",
    "With $Q$ defined as in the obstacle-free case, and `in_collision` is the binary output of the collision detection function you implemented above. This should add an additional state cost of 100 whenever a state is in collision.\n",
    "\n",
    "**TODO:**\n",
    "\n",
    "* Implement `obstacle_avoidance_pushing_cost_function` in `learning_state_dynamics.py`.\n",
    "\n",
    "If implemented successfully, you should see the robot pushing the block around the obstacle to the goal. The robot should complete the task within the 20 steps, but may take 15-20 steps to do so. Even with a good dynamics model the robot may occasionally get the block stuck on the obstacle, but should complete the task successfully more often than not."
   ]
  },
  {
   "cell_type": "code",
   "execution_count": null,
   "metadata": {
    "colab": {
     "base_uri": "https://localhost:8080/",
     "height": 703,
     "referenced_widgets": [
      "cc09a9f210a045bfa1eed07ca2ccbda4",
      "cc698d19d6b74ac9900e3bac25226776",
      "dd895cbea7c5496396cc522d848c6408",
      "12a9d226a9b04b0a90ee738cb438963a",
      "0acb4cf0c2e64848bcfe3a00961eb64e",
      "e518a4df445742948b6b43674aeea635",
      "1666e17a17234421b99ae651551043df",
      "2e662c76a54d4c78a7e9aa57888f3846",
      "1c1c6b52d5d244a8a234f0740c364b3d",
      "6cf61d1e23f749669a1284375b2a4594",
      "5011fc30f4df46d5b2c4291907f1ad86"
     ]
    },
    "executionInfo": {
     "elapsed": 38447,
     "status": "ok",
     "timestamp": 1740597759388,
     "user": {
      "displayName": "Zhiyin Xu",
      "userId": "07429917279924941177"
     },
     "user_tz": 300
    },
    "id": "kB95ZI3hJu3u",
    "outputId": "df9c6738-6e70-41ea-e29a-843e0981189f"
   },
   "outputs": [
    {
     "data": {
      "image/png": "[encoded data removed]",
      "text/plain": [
       "<Figure size 800x800 with 1 Axes>"
      ]
     },
     "metadata": {},
     "output_type": "display_data"
    },
    {
     "data": {
      "application/vnd.jupyter.widget-view+json": {
       "model_id": "cc09a9f210a045bfa1eed07ca2ccbda4",
       "version_major": 2,
       "version_minor": 0
      },
      "text/plain": [
       "  0%|          | 0/20 [00:00<?, ?it/s]"
      ]
     },
     "metadata": {},
     "output_type": "display_data"
    },
    {
     "name": "stdout",
     "output_type": "stream",
     "text": [
      "GOAL REACHED: True\n"
     ]
    }
   ],
   "source": [
    "# Control on an obstacle free environment\n",
    "%matplotlib inline\n",
    "\n",
    "fig = plt.figure(figsize=(8,8))\n",
    "hfig = display(fig, display_id=True)\n",
    "visualizer = NotebookVisualizer(fig=fig, hfig=hfig)\n",
    "\n",
    "# set up controller and environment\n",
    "env = PandaPushingEnv(visualizer=visualizer, render_non_push_motions=False,  include_obstacle=True, camera_heigh=800, camera_width=800, render_every_n_steps=5)\n",
    "controller = PushingController(env, pushing_multistep_residual_dynamics_model,\n",
    "                               obstacle_avoidance_pushing_cost_function, num_samples=1000, horizon=20)\n",
    "env.reset()\n",
    "\n",
    "state_0 = env.reset()\n",
    "state = state_0\n",
    "\n",
    "num_steps_max = 20\n",
    "\n",
    "for i in tqdm(range(num_steps_max)):\n",
    "    action = controller.control(state)\n",
    "    state, reward, done, _ = env.step(action)\n",
    "    if done:\n",
    "        break\n",
    "\n",
    "\n",
    "# Evaluate if goal is reached\n",
    "end_state = env.get_state()\n",
    "target_state = TARGET_POSE_OBSTACLES\n",
    "goal_distance = np.linalg.norm(end_state[:2]-target_state[:2]) # evaluate only position, not orientation\n",
    "goal_reached = goal_distance < BOX_SIZE\n",
    "\n",
    "print(f'GOAL REACHED: {goal_reached}')\n",
    "\n",
    "\n",
    "# Evaluate state\n",
    "plt.close(fig)"
   ]
  },
  {
   "cell_type": "code",
   "execution_count": null,
   "metadata": {
    "id": "JQlDocYRJu3v"
   },
   "outputs": [],
   "source": []
  },
  {
   "cell_type": "code",
   "execution_count": null,
   "metadata": {
    "colab": {
     "base_uri": "https://localhost:8080/",
     "height": 472
    },
    "executionInfo": {
     "elapsed": 312,
     "status": "ok",
     "timestamp": 1740596769603,
     "user": {
      "displayName": "Zhiyin Xu",
      "userId": "07429917279924941177"
     },
     "user_tz": 300
    },
    "id": "11Cz71wlpm62",
    "outputId": "a7a31c15-8af2-4268-aa5f-59b95516bcd1"
   },
   "outputs": [
    {
     "data": {
      "image/png": "[encoded data removed]",
      "text/plain": [
       "<Figure size 640x480 with 1 Axes>"
      ]
     },
     "metadata": {},
     "output_type": "display_data"
    }
   ],
   "source": [
    "import matplotlib.pyplot as plt\n",
    "import matplotlib.patches as patches\n",
    "import numpy as np\n",
    "\n",
    "# 参数设置\n",
    "# 障碍物参数（轴对齐矩形）\n",
    "obs_center = (0.1, 0.1)       # 障碍物中心\n",
    "obs_dims = (0.4, 0.2)         # 障碍物宽度和高度\n",
    "\n",
    "# 机器人物体参数（正方形，可能旋转）\n",
    "box_size = 0.2                # 正方形边长\n",
    "theta_deg = 30                # 旋转角度（度）\n",
    "theta = np.deg2rad(theta_deg) # 转换为弧度\n",
    "robot_center = (-0.2, -0.2)   # 物体中心位置\n",
    "\n",
    "# 绘制障碍物（红色矩形，轴对齐）\n",
    "fig, ax = plt.subplots()\n",
    "obs_rect = patches.Rectangle(\n",
    "    (obs_center[0] - obs_dims[0]/2, obs_center[1] - obs_dims[1]/2),\n",
    "    obs_dims[0], obs_dims[1],\n",
    "    edgecolor='red', facecolor='none', linewidth=2\n",
    ")\n",
    "ax.add_patch(obs_rect)\n",
    "ax.text(obs_center[0], obs_center[1], 'Obstacle', color='red',\n",
    "        ha='center', va='center')\n",
    "\n",
    "# 绘制机器人物体（蓝色旋转正方形）\n",
    "half = box_size / 2\n",
    "# 定义正方形角点（中心在原点）\n",
    "corners = np.array([\n",
    "    [-half, -half],\n",
    "    [ half, -half],\n",
    "    [ half,  half],\n",
    "    [-half,  half]\n",
    "])\n",
    "# 旋转矩阵\n",
    "R = np.array([[np.cos(theta), -np.sin(theta)],\n",
    "              [np.sin(theta),  np.cos(theta)]])\n",
    "rotated_corners = (R @ corners.T).T + np.array(robot_center)\n",
    "robot_poly = patches.Polygon(rotated_corners, closed=True,\n",
    "                             edgecolor='blue', facecolor='none', linewidth=2)\n",
    "ax.add_patch(robot_poly)\n",
    "ax.text(robot_center[0], robot_center[1], 'Robot', color='blue',\n",
    "        ha='center', va='center')\n",
    "\n",
    "# 设置坐标系\n",
    "ax.set_xlim(-1, 1)\n",
    "ax.set_ylim(-1, 1)\n",
    "ax.set_aspect('equal')\n",
    "plt.title(\"Collision Detection: Rotated Robot vs. Axis-Aligned Obstacle\")\n",
    "plt.xlabel(\"X\")\n",
    "plt.ylabel(\"Y\")\n",
    "plt.show()\n"
   ]
  }
 ],
 "metadata": {
  "colab": {
   "provenance": []
  },
  "kernelspec": {
   "display_name": "venv",
   "language": "python",
   "name": "venv"
  },
  "language_info": {
   "codemirror_mode": {
    "name": "ipython",
    "version": 3
   },
   "file_extension": ".py",
   "mimetype": "text/x-python",
   "name": "python",
   "nbconvert_exporter": "python",
   "pygments_lexer": "ipython3",
   "version": "3.8.10"
  },
  "widgets": {
   "application/vnd.jupyter.widget-state+json": {
    "002add8ab88b4f9c8998123dedc551f2": {
     "model_module": "@jupyter-widgets/controls",
     "model_module_version": "1.5.0",
     "model_name": "HTMLModel",
     "state": {
      "_dom_classes": [],
      "_model_module": "@jupyter-widgets/controls",
      "_model_module_version": "1.5.0",
      "_model_name": "HTMLModel",
      "_view_count": null,
      "_view_module": "@jupyter-widgets/controls",
      "_view_module_version": "1.5.0",
      "_view_name": "HTMLView",
      "description": "",
      "description_tooltip": null,
      "layout": "IPY_MODEL_d62273d9c88149f1aec22d0b78d31834",
      "placeholder": "​",
      "style": "IPY_MODEL_e89434e9dd9248bcb3bfbef991e02906",
      "value": " 10000/10000 [05:52&lt;00:00, 21.55it/s]"
     }
    },
    "039143c376ab4080828cf669ff0db4f3": {
     "model_module": "@jupyter-widgets/controls",
     "model_module_version": "1.5.0",
     "model_name": "HTMLModel",
     "state": {
      "_dom_classes": [],
      "_model_module": "@jupyter-widgets/controls",
      "_model_module_version": "1.5.0",
      "_model_name": "HTMLModel",
      "_view_count": null,
      "_view_module": "@jupyter-widgets/controls",
      "_view_module_version": "1.5.0",
      "_view_name": "HTMLView",
      "description": "",
      "description_tooltip": null,
      "layout": "IPY_MODEL_2a0d35d5736d477994f2d100ad0a222f",
      "placeholder": "​",
      "style": "IPY_MODEL_95160fca0ae54207afbd2b2598538231",
      "value": "100%"
     }
    },
    "061801c181a0403a92dcdb71510744be": {
     "model_module": "@jupyter-widgets/base",
     "model_module_version": "1.2.0",
     "model_name": "LayoutModel",
     "state": {
      "_model_module": "@jupyter-widgets/base",
      "_model_module_version": "1.2.0",
      "_model_name": "LayoutModel",
      "_view_count": null,
      "_view_module": "@jupyter-widgets/base",
      "_view_module_version": "1.2.0",
      "_view_name": "LayoutView",
      "align_content": null,
      "align_items": null,
      "align_self": null,
      "border": null,
      "bottom": null,
      "display": null,
      "flex": null,
      "flex_flow": null,
      "grid_area": null,
      "grid_auto_columns": null,
      "grid_auto_flow": null,
      "grid_auto_rows": null,
      "grid_column": null,
      "grid_gap": null,
      "grid_row": null,
      "grid_template_areas": null,
      "grid_template_columns": null,
      "grid_template_rows": null,
      "height": null,
      "justify_content": null,
      "justify_items": null,
      "left": null,
      "margin": null,
      "max_height": null,
      "max_width": null,
      "min_height": null,
      "min_width": null,
      "object_fit": null,
      "object_position": null,
      "order": null,
      "overflow": null,
      "overflow_x": null,
      "overflow_y": null,
      "padding": null,
      "right": null,
      "top": null,
      "visibility": null,
      "width": null
     }
    },
    "0acb4cf0c2e64848bcfe3a00961eb64e": {
     "model_module": "@jupyter-widgets/base",
     "model_module_version": "1.2.0",
     "model_name": "LayoutModel",
     "state": {
      "_model_module": "@jupyter-widgets/base",
      "_model_module_version": "1.2.0",
      "_model_name": "LayoutModel",
      "_view_count": null,
      "_view_module": "@jupyter-widgets/base",
      "_view_module_version": "1.2.0",
      "_view_name": "LayoutView",
      "align_content": null,
      "align_items": null,
      "align_self": null,
      "border": null,
      "bottom": null,
      "display": null,
      "flex": null,
      "flex_flow": null,
      "grid_area": null,
      "grid_auto_columns": null,
      "grid_auto_flow": null,
      "grid_auto_rows": null,
      "grid_column": null,
      "grid_gap": null,
      "grid_row": null,
      "grid_template_areas": null,
      "grid_template_columns": null,
      "grid_template_rows": null,
      "height": null,
      "justify_content": null,
      "justify_items": null,
      "left": null,
      "margin": null,
      "max_height": null,
      "max_width": null,
      "min_height": null,
      "min_width": null,
      "object_fit": null,
      "object_position": null,
      "order": null,
      "overflow": null,
      "overflow_x": null,
      "overflow_y": null,
      "padding": null,
      "right": null,
      "top": null,
      "visibility": null,
      "width": null
     }
    },
    "0ec521334c284c739a576fce8a8a786c": {
     "model_module": "@jupyter-widgets/controls",
     "model_module_version": "1.5.0",
     "model_name": "HTMLModel",
     "state": {
      "_dom_classes": [],
      "_model_module": "@jupyter-widgets/controls",
      "_model_module_version": "1.5.0",
      "_model_name": "HTMLModel",
      "_view_count": null,
      "_view_module": "@jupyter-widgets/controls",
      "_view_module_version": "1.5.0",
      "_view_name": "HTMLView",
      "description": "",
      "description_tooltip": null,
      "layout": "IPY_MODEL_2049962d4bfc4f8faa95709fa13b6f8a",
      "placeholder": "​",
      "style": "IPY_MODEL_7455a729689142cd91123a470bcd4b54",
      "value": " 1000/1000 [00:26&lt;00:00, 42.11it/s]"
     }
    },
    "1152f36b3c534e00b68b787f843dc32d": {
     "model_module": "@jupyter-widgets/base",
     "model_module_version": "1.2.0",
     "model_name": "LayoutModel",
     "state": {
      "_model_module": "@jupyter-widgets/base",
      "_model_module_version": "1.2.0",
      "_model_name": "LayoutModel",
      "_view_count": null,
      "_view_module": "@jupyter-widgets/base",
      "_view_module_version": "1.2.0",
      "_view_name": "LayoutView",
      "align_content": null,
      "align_items": null,
      "align_self": null,
      "border": null,
      "bottom": null,
      "display": null,
      "flex": null,
      "flex_flow": null,
      "grid_area": null,
      "grid_auto_columns": null,
      "grid_auto_flow": null,
      "grid_auto_rows": null,
      "grid_column": null,
      "grid_gap": null,
      "grid_row": null,
      "grid_template_areas": null,
      "grid_template_columns": null,
      "grid_template_rows": null,
      "height": null,
      "justify_content": null,
      "justify_items": null,
      "left": null,
      "margin": null,
      "max_height": null,
      "max_width": null,
      "min_height": null,
      "min_width": null,
      "object_fit": null,
      "object_position": null,
      "order": null,
      "overflow": null,
      "overflow_x": null,
      "overflow_y": null,
      "padding": null,
      "right": null,
      "top": null,
      "visibility": null,
      "width": null
     }
    },
    "12a9d226a9b04b0a90ee738cb438963a": {
     "model_module": "@jupyter-widgets/controls",
     "model_module_version": "1.5.0",
     "model_name": "HTMLModel",
     "state": {
      "_dom_classes": [],
      "_model_module": "@jupyter-widgets/controls",
      "_model_module_version": "1.5.0",
      "_model_name": "HTMLModel",
      "_view_count": null,
      "_view_module": "@jupyter-widgets/controls",
      "_view_module_version": "1.5.0",
      "_view_name": "HTMLView",
      "description": "",
      "description_tooltip": null,
      "layout": "IPY_MODEL_6cf61d1e23f749669a1284375b2a4594",
      "placeholder": "​",
      "style": "IPY_MODEL_5011fc30f4df46d5b2c4291907f1ad86",
      "value": " 15/20 [00:36&lt;00:11,  2.39s/it]"
     }
    },
    "1666e17a17234421b99ae651551043df": {
     "model_module": "@jupyter-widgets/controls",
     "model_module_version": "1.5.0",
     "model_name": "DescriptionStyleModel",
     "state": {
      "_model_module": "@jupyter-widgets/controls",
      "_model_module_version": "1.5.0",
      "_model_name": "DescriptionStyleModel",
      "_view_count": null,
      "_view_module": "@jupyter-widgets/base",
      "_view_module_version": "1.2.0",
      "_view_name": "StyleView",
      "description_width": ""
     }
    },
    "1c1c6b52d5d244a8a234f0740c364b3d": {
     "model_module": "@jupyter-widgets/controls",
     "model_module_version": "1.5.0",
     "model_name": "ProgressStyleModel",
     "state": {
      "_model_module": "@jupyter-widgets/controls",
      "_model_module_version": "1.5.0",
      "_model_name": "ProgressStyleModel",
      "_view_count": null,
      "_view_module": "@jupyter-widgets/base",
      "_view_module_version": "1.2.0",
      "_view_name": "StyleView",
      "bar_color": null,
      "description_width": ""
     }
    },
    "2049962d4bfc4f8faa95709fa13b6f8a": {
     "model_module": "@jupyter-widgets/base",
     "model_module_version": "1.2.0",
     "model_name": "LayoutModel",
     "state": {
      "_model_module": "@jupyter-widgets/base",
      "_model_module_version": "1.2.0",
      "_model_name": "LayoutModel",
      "_view_count": null,
      "_view_module": "@jupyter-widgets/base",
      "_view_module_version": "1.2.0",
      "_view_name": "LayoutView",
      "align_content": null,
      "align_items": null,
      "align_self": null,
      "border": null,
      "bottom": null,
      "display": null,
      "flex": null,
      "flex_flow": null,
      "grid_area": null,
      "grid_auto_columns": null,
      "grid_auto_flow": null,
      "grid_auto_rows": null,
      "grid_column": null,
      "grid_gap": null,
      "grid_row": null,
      "grid_template_areas": null,
      "grid_template_columns": null,
      "grid_template_rows": null,
      "height": null,
      "justify_content": null,
      "justify_items": null,
      "left": null,
      "margin": null,
      "max_height": null,
      "max_width": null,
      "min_height": null,
      "min_width": null,
      "object_fit": null,
      "object_position": null,
      "order": null,
      "overflow": null,
      "overflow_x": null,
      "overflow_y": null,
      "padding": null,
      "right": null,
      "top": null,
      "visibility": null,
      "width": null
     }
    },
    "23de7389c6084800af3136c0aefa6b1d": {
     "model_module": "@jupyter-widgets/base",
     "model_module_version": "1.2.0",
     "model_name": "LayoutModel",
     "state": {
      "_model_module": "@jupyter-widgets/base",
      "_model_module_version": "1.2.0",
      "_model_name": "LayoutModel",
      "_view_count": null,
      "_view_module": "@jupyter-widgets/base",
      "_view_module_version": "1.2.0",
      "_view_name": "LayoutView",
      "align_content": null,
      "align_items": null,
      "align_self": null,
      "border": null,
      "bottom": null,
      "display": null,
      "flex": null,
      "flex_flow": null,
      "grid_area": null,
      "grid_auto_columns": null,
      "grid_auto_flow": null,
      "grid_auto_rows": null,
      "grid_column": null,
      "grid_gap": null,
      "grid_row": null,
      "grid_template_areas": null,
      "grid_template_columns": null,
      "grid_template_rows": null,
      "height": null,
      "justify_content": null,
      "justify_items": null,
      "left": null,
      "margin": null,
      "max_height": null,
      "max_width": null,
      "min_height": null,
      "min_width": null,
      "object_fit": null,
      "object_position": null,
      "order": null,
      "overflow": null,
      "overflow_x": null,
      "overflow_y": null,
      "padding": null,
      "right": null,
      "top": null,
      "visibility": null,
      "width": null
     }
    },
    "245c4b8accad49c190a40e439cbc56b0": {
     "model_module": "@jupyter-widgets/base",
     "model_module_version": "1.2.0",
     "model_name": "LayoutModel",
     "state": {
      "_model_module": "@jupyter-widgets/base",
      "_model_module_version": "1.2.0",
      "_model_name": "LayoutModel",
      "_view_count": null,
      "_view_module": "@jupyter-widgets/base",
      "_view_module_version": "1.2.0",
      "_view_name": "LayoutView",
      "align_content": null,
      "align_items": null,
      "align_self": null,
      "border": null,
      "bottom": null,
      "display": null,
      "flex": null,
      "flex_flow": null,
      "grid_area": null,
      "grid_auto_columns": null,
      "grid_auto_flow": null,
      "grid_auto_rows": null,
      "grid_column": null,
      "grid_gap": null,
      "grid_row": null,
      "grid_template_areas": null,
      "grid_template_columns": null,
      "grid_template_rows": null,
      "height": null,
      "justify_content": null,
      "justify_items": null,
      "left": null,
      "margin": null,
      "max_height": null,
      "max_width": null,
      "min_height": null,
      "min_width": null,
      "object_fit": null,
      "object_position": null,
      "order": null,
      "overflow": null,
      "overflow_x": null,
      "overflow_y": null,
      "padding": null,
      "right": null,
      "top": null,
      "visibility": null,
      "width": null
     }
    },
    "259740814a6c4cedae052de2f0720de9": {
     "model_module": "@jupyter-widgets/controls",
     "model_module_version": "1.5.0",
     "model_name": "HBoxModel",
     "state": {
      "_dom_classes": [],
      "_model_module": "@jupyter-widgets/controls",
      "_model_module_version": "1.5.0",
      "_model_name": "HBoxModel",
      "_view_count": null,
      "_view_module": "@jupyter-widgets/controls",
      "_view_module_version": "1.5.0",
      "_view_name": "HBoxView",
      "box_style": "",
      "children": [
       "IPY_MODEL_aa35e890ffe545e4820799f3e1e15e22",
       "IPY_MODEL_6f82a352103e43b18163e4952e0b3b8d",
       "IPY_MODEL_56da49adf11d46b9bd08b61b82959590"
      ],
      "layout": "IPY_MODEL_4af88f4860ac4b92a8d32a644d296943"
     }
    },
    "2a0d35d5736d477994f2d100ad0a222f": {
     "model_module": "@jupyter-widgets/base",
     "model_module_version": "1.2.0",
     "model_name": "LayoutModel",
     "state": {
      "_model_module": "@jupyter-widgets/base",
      "_model_module_version": "1.2.0",
      "_model_name": "LayoutModel",
      "_view_count": null,
      "_view_module": "@jupyter-widgets/base",
      "_view_module_version": "1.2.0",
      "_view_name": "LayoutView",
      "align_content": null,
      "align_items": null,
      "align_self": null,
      "border": null,
      "bottom": null,
      "display": null,
      "flex": null,
      "flex_flow": null,
      "grid_area": null,
      "grid_auto_columns": null,
      "grid_auto_flow": null,
      "grid_auto_rows": null,
      "grid_column": null,
      "grid_gap": null,
      "grid_row": null,
      "grid_template_areas": null,
      "grid_template_columns": null,
      "grid_template_rows": null,
      "height": null,
      "justify_content": null,
      "justify_items": null,
      "left": null,
      "margin": null,
      "max_height": null,
      "max_width": null,
      "min_height": null,
      "min_width": null,
      "object_fit": null,
      "object_position": null,
      "order": null,
      "overflow": null,
      "overflow_x": null,
      "overflow_y": null,
      "padding": null,
      "right": null,
      "top": null,
      "visibility": null,
      "width": null
     }
    },
    "2e662c76a54d4c78a7e9aa57888f3846": {
     "model_module": "@jupyter-widgets/base",
     "model_module_version": "1.2.0",
     "model_name": "LayoutModel",
     "state": {
      "_model_module": "@jupyter-widgets/base",
      "_model_module_version": "1.2.0",
      "_model_name": "LayoutModel",
      "_view_count": null,
      "_view_module": "@jupyter-widgets/base",
      "_view_module_version": "1.2.0",
      "_view_name": "LayoutView",
      "align_content": null,
      "align_items": null,
      "align_self": null,
      "border": null,
      "bottom": null,
      "display": null,
      "flex": null,
      "flex_flow": null,
      "grid_area": null,
      "grid_auto_columns": null,
      "grid_auto_flow": null,
      "grid_auto_rows": null,
      "grid_column": null,
      "grid_gap": null,
      "grid_row": null,
      "grid_template_areas": null,
      "grid_template_columns": null,
      "grid_template_rows": null,
      "height": null,
      "justify_content": null,
      "justify_items": null,
      "left": null,
      "margin": null,
      "max_height": null,
      "max_width": null,
      "min_height": null,
      "min_width": null,
      "object_fit": null,
      "object_position": null,
      "order": null,
      "overflow": null,
      "overflow_x": null,
      "overflow_y": null,
      "padding": null,
      "right": null,
      "top": null,
      "visibility": null,
      "width": null
     }
    },
    "2fb38d3fc0904f1b93c94b10469cc5a5": {
     "model_module": "@jupyter-widgets/base",
     "model_module_version": "1.2.0",
     "model_name": "LayoutModel",
     "state": {
      "_model_module": "@jupyter-widgets/base",
      "_model_module_version": "1.2.0",
      "_model_name": "LayoutModel",
      "_view_count": null,
      "_view_module": "@jupyter-widgets/base",
      "_view_module_version": "1.2.0",
      "_view_name": "LayoutView",
      "align_content": null,
      "align_items": null,
      "align_self": null,
      "border": null,
      "bottom": null,
      "display": null,
      "flex": null,
      "flex_flow": null,
      "grid_area": null,
      "grid_auto_columns": null,
      "grid_auto_flow": null,
      "grid_auto_rows": null,
      "grid_column": null,
      "grid_gap": null,
      "grid_row": null,
      "grid_template_areas": null,
      "grid_template_columns": null,
      "grid_template_rows": null,
      "height": null,
      "justify_content": null,
      "justify_items": null,
      "left": null,
      "margin": null,
      "max_height": null,
      "max_width": null,
      "min_height": null,
      "min_width": null,
      "object_fit": null,
      "object_position": null,
      "order": null,
      "overflow": null,
      "overflow_x": null,
      "overflow_y": null,
      "padding": null,
      "right": null,
      "top": null,
      "visibility": null,
      "width": null
     }
    },
    "2fc9b9ce3ff54e50bf70ec67ea3ca755": {
     "model_module": "@jupyter-widgets/controls",
     "model_module_version": "1.5.0",
     "model_name": "HTMLModel",
     "state": {
      "_dom_classes": [],
      "_model_module": "@jupyter-widgets/controls",
      "_model_module_version": "1.5.0",
      "_model_name": "HTMLModel",
      "_view_count": null,
      "_view_module": "@jupyter-widgets/controls",
      "_view_module_version": "1.5.0",
      "_view_name": "HTMLView",
      "description": "",
      "description_tooltip": null,
      "layout": "IPY_MODEL_a62fe7a08ed44a7d9af0e4ca2749e961",
      "placeholder": "​",
      "style": "IPY_MODEL_a65784a613ea49849c3707aa9cb6375e",
      "value": "Train Loss: 0.0000 | Validation Loss: 0.0001: 100%"
     }
    },
    "3398d65669f249fdadf808e71b3fba83": {
     "model_module": "@jupyter-widgets/base",
     "model_module_version": "1.2.0",
     "model_name": "LayoutModel",
     "state": {
      "_model_module": "@jupyter-widgets/base",
      "_model_module_version": "1.2.0",
      "_model_name": "LayoutModel",
      "_view_count": null,
      "_view_module": "@jupyter-widgets/base",
      "_view_module_version": "1.2.0",
      "_view_name": "LayoutView",
      "align_content": null,
      "align_items": null,
      "align_self": null,
      "border": null,
      "bottom": null,
      "display": null,
      "flex": null,
      "flex_flow": null,
      "grid_area": null,
      "grid_auto_columns": null,
      "grid_auto_flow": null,
      "grid_auto_rows": null,
      "grid_column": null,
      "grid_gap": null,
      "grid_row": null,
      "grid_template_areas": null,
      "grid_template_columns": null,
      "grid_template_rows": null,
      "height": null,
      "justify_content": null,
      "justify_items": null,
      "left": null,
      "margin": null,
      "max_height": null,
      "max_width": null,
      "min_height": null,
      "min_width": null,
      "object_fit": null,
      "object_position": null,
      "order": null,
      "overflow": null,
      "overflow_x": null,
      "overflow_y": null,
      "padding": null,
      "right": null,
      "top": null,
      "visibility": null,
      "width": null
     }
    },
    "3493a1b6353f45219b7cab62d0be6cbe": {
     "model_module": "@jupyter-widgets/controls",
     "model_module_version": "1.5.0",
     "model_name": "DescriptionStyleModel",
     "state": {
      "_model_module": "@jupyter-widgets/controls",
      "_model_module_version": "1.5.0",
      "_model_name": "DescriptionStyleModel",
      "_view_count": null,
      "_view_module": "@jupyter-widgets/base",
      "_view_module_version": "1.2.0",
      "_view_name": "StyleView",
      "description_width": ""
     }
    },
    "38ab177a5dec4f3089142fd949a5653c": {
     "model_module": "@jupyter-widgets/base",
     "model_module_version": "1.2.0",
     "model_name": "LayoutModel",
     "state": {
      "_model_module": "@jupyter-widgets/base",
      "_model_module_version": "1.2.0",
      "_model_name": "LayoutModel",
      "_view_count": null,
      "_view_module": "@jupyter-widgets/base",
      "_view_module_version": "1.2.0",
      "_view_name": "LayoutView",
      "align_content": null,
      "align_items": null,
      "align_self": null,
      "border": null,
      "bottom": null,
      "display": null,
      "flex": null,
      "flex_flow": null,
      "grid_area": null,
      "grid_auto_columns": null,
      "grid_auto_flow": null,
      "grid_auto_rows": null,
      "grid_column": null,
      "grid_gap": null,
      "grid_row": null,
      "grid_template_areas": null,
      "grid_template_columns": null,
      "grid_template_rows": null,
      "height": null,
      "justify_content": null,
      "justify_items": null,
      "left": null,
      "margin": null,
      "max_height": null,
      "max_width": null,
      "min_height": null,
      "min_width": null,
      "object_fit": null,
      "object_position": null,
      "order": null,
      "overflow": null,
      "overflow_x": null,
      "overflow_y": null,
      "padding": null,
      "right": null,
      "top": null,
      "visibility": null,
      "width": null
     }
    },
    "39bd89429b3448b9a6297ad34343307d": {
     "model_module": "@jupyter-widgets/controls",
     "model_module_version": "1.5.0",
     "model_name": "FloatProgressModel",
     "state": {
      "_dom_classes": [],
      "_model_module": "@jupyter-widgets/controls",
      "_model_module_version": "1.5.0",
      "_model_name": "FloatProgressModel",
      "_view_count": null,
      "_view_module": "@jupyter-widgets/controls",
      "_view_module_version": "1.5.0",
      "_view_name": "ProgressView",
      "bar_style": "success",
      "description": "",
      "description_tooltip": null,
      "layout": "IPY_MODEL_fed7dd5d7d0248c3bda147a1432076a2",
      "max": 3,
      "min": 0,
      "orientation": "horizontal",
      "style": "IPY_MODEL_d2f40df333dc4c399192d47c0b1c362c",
      "value": 3
     }
    },
    "39c21a2655e74986a29a69295bfdf6e1": {
     "model_module": "@jupyter-widgets/base",
     "model_module_version": "1.2.0",
     "model_name": "LayoutModel",
     "state": {
      "_model_module": "@jupyter-widgets/base",
      "_model_module_version": "1.2.0",
      "_model_name": "LayoutModel",
      "_view_count": null,
      "_view_module": "@jupyter-widgets/base",
      "_view_module_version": "1.2.0",
      "_view_name": "LayoutView",
      "align_content": null,
      "align_items": null,
      "align_self": null,
      "border": null,
      "bottom": null,
      "display": null,
      "flex": null,
      "flex_flow": null,
      "grid_area": null,
      "grid_auto_columns": null,
      "grid_auto_flow": null,
      "grid_auto_rows": null,
      "grid_column": null,
      "grid_gap": null,
      "grid_row": null,
      "grid_template_areas": null,
      "grid_template_columns": null,
      "grid_template_rows": null,
      "height": null,
      "justify_content": null,
      "justify_items": null,
      "left": null,
      "margin": null,
      "max_height": null,
      "max_width": null,
      "min_height": null,
      "min_width": null,
      "object_fit": null,
      "object_position": null,
      "order": null,
      "overflow": null,
      "overflow_x": null,
      "overflow_y": null,
      "padding": null,
      "right": null,
      "top": null,
      "visibility": null,
      "width": null
     }
    },
    "3e374a76524043c586cee0965ef953cc": {
     "model_module": "@jupyter-widgets/controls",
     "model_module_version": "1.5.0",
     "model_name": "HTMLModel",
     "state": {
      "_dom_classes": [],
      "_model_module": "@jupyter-widgets/controls",
      "_model_module_version": "1.5.0",
      "_model_name": "HTMLModel",
      "_view_count": null,
      "_view_module": "@jupyter-widgets/controls",
      "_view_module_version": "1.5.0",
      "_view_name": "HTMLView",
      "description": "",
      "description_tooltip": null,
      "layout": "IPY_MODEL_23de7389c6084800af3136c0aefa6b1d",
      "placeholder": "​",
      "style": "IPY_MODEL_42bf6b3649d0401a8df64f1837140516",
      "value": " 20%"
     }
    },
    "42bf6b3649d0401a8df64f1837140516": {
     "model_module": "@jupyter-widgets/controls",
     "model_module_version": "1.5.0",
     "model_name": "DescriptionStyleModel",
     "state": {
      "_model_module": "@jupyter-widgets/controls",
      "_model_module_version": "1.5.0",
      "_model_name": "DescriptionStyleModel",
      "_view_count": null,
      "_view_module": "@jupyter-widgets/base",
      "_view_module_version": "1.2.0",
      "_view_name": "StyleView",
      "description_width": ""
     }
    },
    "498c5a8fdc6f48cb91585853bae55cf9": {
     "model_module": "@jupyter-widgets/controls",
     "model_module_version": "1.5.0",
     "model_name": "HBoxModel",
     "state": {
      "_dom_classes": [],
      "_model_module": "@jupyter-widgets/controls",
      "_model_module_version": "1.5.0",
      "_model_name": "HBoxModel",
      "_view_count": null,
      "_view_module": "@jupyter-widgets/controls",
      "_view_module_version": "1.5.0",
      "_view_name": "HBoxView",
      "box_style": "",
      "children": [
       "IPY_MODEL_b5f88562ca09438e9ef8c3dd68c0af1c",
       "IPY_MODEL_5395a10b7dcb4cdea6c3807fe7fcff81",
       "IPY_MODEL_002add8ab88b4f9c8998123dedc551f2"
      ],
      "layout": "IPY_MODEL_e1eb9dfcc5c84b588cb77936d3d35bbb"
     }
    },
    "4af88f4860ac4b92a8d32a644d296943": {
     "model_module": "@jupyter-widgets/base",
     "model_module_version": "1.2.0",
     "model_name": "LayoutModel",
     "state": {
      "_model_module": "@jupyter-widgets/base",
      "_model_module_version": "1.2.0",
      "_model_name": "LayoutModel",
      "_view_count": null,
      "_view_module": "@jupyter-widgets/base",
      "_view_module_version": "1.2.0",
      "_view_name": "LayoutView",
      "align_content": null,
      "align_items": null,
      "align_self": null,
      "border": null,
      "bottom": null,
      "display": null,
      "flex": null,
      "flex_flow": null,
      "grid_area": null,
      "grid_auto_columns": null,
      "grid_auto_flow": null,
      "grid_auto_rows": null,
      "grid_column": null,
      "grid_gap": null,
      "grid_row": null,
      "grid_template_areas": null,
      "grid_template_columns": null,
      "grid_template_rows": null,
      "height": null,
      "justify_content": null,
      "justify_items": null,
      "left": null,
      "margin": null,
      "max_height": null,
      "max_width": null,
      "min_height": null,
      "min_width": null,
      "object_fit": null,
      "object_position": null,
      "order": null,
      "overflow": null,
      "overflow_x": null,
      "overflow_y": null,
      "padding": null,
      "right": null,
      "top": null,
      "visibility": null,
      "width": null
     }
    },
    "4bd1f33a1f034703aa411939abc1ebe8": {
     "model_module": "@jupyter-widgets/base",
     "model_module_version": "1.2.0",
     "model_name": "LayoutModel",
     "state": {
      "_model_module": "@jupyter-widgets/base",
      "_model_module_version": "1.2.0",
      "_model_name": "LayoutModel",
      "_view_count": null,
      "_view_module": "@jupyter-widgets/base",
      "_view_module_version": "1.2.0",
      "_view_name": "LayoutView",
      "align_content": null,
      "align_items": null,
      "align_self": null,
      "border": null,
      "bottom": null,
      "display": null,
      "flex": null,
      "flex_flow": null,
      "grid_area": null,
      "grid_auto_columns": null,
      "grid_auto_flow": null,
      "grid_auto_rows": null,
      "grid_column": null,
      "grid_gap": null,
      "grid_row": null,
      "grid_template_areas": null,
      "grid_template_columns": null,
      "grid_template_rows": null,
      "height": null,
      "justify_content": null,
      "justify_items": null,
      "left": null,
      "margin": null,
      "max_height": null,
      "max_width": null,
      "min_height": null,
      "min_width": null,
      "object_fit": null,
      "object_position": null,
      "order": null,
      "overflow": null,
      "overflow_x": null,
      "overflow_y": null,
      "padding": null,
      "right": null,
      "top": null,
      "visibility": null,
      "width": null
     }
    },
    "4cd7a93f3b364cb79df6908948bc40ed": {
     "model_module": "@jupyter-widgets/base",
     "model_module_version": "1.2.0",
     "model_name": "LayoutModel",
     "state": {
      "_model_module": "@jupyter-widgets/base",
      "_model_module_version": "1.2.0",
      "_model_name": "LayoutModel",
      "_view_count": null,
      "_view_module": "@jupyter-widgets/base",
      "_view_module_version": "1.2.0",
      "_view_name": "LayoutView",
      "align_content": null,
      "align_items": null,
      "align_self": null,
      "border": null,
      "bottom": null,
      "display": null,
      "flex": null,
      "flex_flow": null,
      "grid_area": null,
      "grid_auto_columns": null,
      "grid_auto_flow": null,
      "grid_auto_rows": null,
      "grid_column": null,
      "grid_gap": null,
      "grid_row": null,
      "grid_template_areas": null,
      "grid_template_columns": null,
      "grid_template_rows": null,
      "height": null,
      "justify_content": null,
      "justify_items": null,
      "left": null,
      "margin": null,
      "max_height": null,
      "max_width": null,
      "min_height": null,
      "min_width": null,
      "object_fit": null,
      "object_position": null,
      "order": null,
      "overflow": null,
      "overflow_x": null,
      "overflow_y": null,
      "padding": null,
      "right": null,
      "top": null,
      "visibility": null,
      "width": null
     }
    },
    "5011fc30f4df46d5b2c4291907f1ad86": {
     "model_module": "@jupyter-widgets/controls",
     "model_module_version": "1.5.0",
     "model_name": "DescriptionStyleModel",
     "state": {
      "_model_module": "@jupyter-widgets/controls",
      "_model_module_version": "1.5.0",
      "_model_name": "DescriptionStyleModel",
      "_view_count": null,
      "_view_module": "@jupyter-widgets/base",
      "_view_module_version": "1.2.0",
      "_view_name": "StyleView",
      "description_width": ""
     }
    },
    "5395a10b7dcb4cdea6c3807fe7fcff81": {
     "model_module": "@jupyter-widgets/controls",
     "model_module_version": "1.5.0",
     "model_name": "FloatProgressModel",
     "state": {
      "_dom_classes": [],
      "_model_module": "@jupyter-widgets/controls",
      "_model_module_version": "1.5.0",
      "_model_name": "FloatProgressModel",
      "_view_count": null,
      "_view_module": "@jupyter-widgets/controls",
      "_view_module_version": "1.5.0",
      "_view_name": "ProgressView",
      "bar_style": "success",
      "description": "",
      "description_tooltip": null,
      "layout": "IPY_MODEL_4bd1f33a1f034703aa411939abc1ebe8",
      "max": 10000,
      "min": 0,
      "orientation": "horizontal",
      "style": "IPY_MODEL_f526360e72e04a18989c9b5f623c50ab",
      "value": 10000
     }
    },
    "5537d963a8054322bbe2ac203e4f995d": {
     "model_module": "@jupyter-widgets/base",
     "model_module_version": "1.2.0",
     "model_name": "LayoutModel",
     "state": {
      "_model_module": "@jupyter-widgets/base",
      "_model_module_version": "1.2.0",
      "_model_name": "LayoutModel",
      "_view_count": null,
      "_view_module": "@jupyter-widgets/base",
      "_view_module_version": "1.2.0",
      "_view_name": "LayoutView",
      "align_content": null,
      "align_items": null,
      "align_self": null,
      "border": null,
      "bottom": null,
      "display": null,
      "flex": null,
      "flex_flow": null,
      "grid_area": null,
      "grid_auto_columns": null,
      "grid_auto_flow": null,
      "grid_auto_rows": null,
      "grid_column": null,
      "grid_gap": null,
      "grid_row": null,
      "grid_template_areas": null,
      "grid_template_columns": null,
      "grid_template_rows": null,
      "height": null,
      "justify_content": null,
      "justify_items": null,
      "left": null,
      "margin": null,
      "max_height": null,
      "max_width": null,
      "min_height": null,
      "min_width": null,
      "object_fit": null,
      "object_position": null,
      "order": null,
      "overflow": null,
      "overflow_x": null,
      "overflow_y": null,
      "padding": null,
      "right": null,
      "top": null,
      "visibility": null,
      "width": null
     }
    },
    "56da49adf11d46b9bd08b61b82959590": {
     "model_module": "@jupyter-widgets/controls",
     "model_module_version": "1.5.0",
     "model_name": "HTMLModel",
     "state": {
      "_dom_classes": [],
      "_model_module": "@jupyter-widgets/controls",
      "_model_module_version": "1.5.0",
      "_model_name": "HTMLModel",
      "_view_count": null,
      "_view_module": "@jupyter-widgets/controls",
      "_view_module_version": "1.5.0",
      "_view_name": "HTMLView",
      "description": "",
      "description_tooltip": null,
      "layout": "IPY_MODEL_71c513d42b47429d900ed4a3eb65bd20",
      "placeholder": "​",
      "style": "IPY_MODEL_d09a417d24134eadae738793171d473a",
      "value": " 1000/1000 [00:27&lt;00:00, 43.78it/s]"
     }
    },
    "600203d2d3c0492f9ea9bfcdbe236a4e": {
     "model_module": "@jupyter-widgets/controls",
     "model_module_version": "1.5.0",
     "model_name": "DescriptionStyleModel",
     "state": {
      "_model_module": "@jupyter-widgets/controls",
      "_model_module_version": "1.5.0",
      "_model_name": "DescriptionStyleModel",
      "_view_count": null,
      "_view_module": "@jupyter-widgets/base",
      "_view_module_version": "1.2.0",
      "_view_name": "StyleView",
      "description_width": ""
     }
    },
    "625bbdb6976946a8bd7ed70556a8fa8a": {
     "model_module": "@jupyter-widgets/base",
     "model_module_version": "1.2.0",
     "model_name": "LayoutModel",
     "state": {
      "_model_module": "@jupyter-widgets/base",
      "_model_module_version": "1.2.0",
      "_model_name": "LayoutModel",
      "_view_count": null,
      "_view_module": "@jupyter-widgets/base",
      "_view_module_version": "1.2.0",
      "_view_name": "LayoutView",
      "align_content": null,
      "align_items": null,
      "align_self": null,
      "border": null,
      "bottom": null,
      "display": null,
      "flex": null,
      "flex_flow": null,
      "grid_area": null,
      "grid_auto_columns": null,
      "grid_auto_flow": null,
      "grid_auto_rows": null,
      "grid_column": null,
      "grid_gap": null,
      "grid_row": null,
      "grid_template_areas": null,
      "grid_template_columns": null,
      "grid_template_rows": null,
      "height": null,
      "justify_content": null,
      "justify_items": null,
      "left": null,
      "margin": null,
      "max_height": null,
      "max_width": null,
      "min_height": null,
      "min_width": null,
      "object_fit": null,
      "object_position": null,
      "order": null,
      "overflow": null,
      "overflow_x": null,
      "overflow_y": null,
      "padding": null,
      "right": null,
      "top": null,
      "visibility": null,
      "width": null
     }
    },
    "64d564f9778749d8acc0450891b494d6": {
     "model_module": "@jupyter-widgets/base",
     "model_module_version": "1.2.0",
     "model_name": "LayoutModel",
     "state": {
      "_model_module": "@jupyter-widgets/base",
      "_model_module_version": "1.2.0",
      "_model_name": "LayoutModel",
      "_view_count": null,
      "_view_module": "@jupyter-widgets/base",
      "_view_module_version": "1.2.0",
      "_view_name": "LayoutView",
      "align_content": null,
      "align_items": null,
      "align_self": null,
      "border": null,
      "bottom": null,
      "display": null,
      "flex": null,
      "flex_flow": null,
      "grid_area": null,
      "grid_auto_columns": null,
      "grid_auto_flow": null,
      "grid_auto_rows": null,
      "grid_column": null,
      "grid_gap": null,
      "grid_row": null,
      "grid_template_areas": null,
      "grid_template_columns": null,
      "grid_template_rows": null,
      "height": null,
      "justify_content": null,
      "justify_items": null,
      "left": null,
      "margin": null,
      "max_height": null,
      "max_width": null,
      "min_height": null,
      "min_width": null,
      "object_fit": null,
      "object_position": null,
      "order": null,
      "overflow": null,
      "overflow_x": null,
      "overflow_y": null,
      "padding": null,
      "right": null,
      "top": null,
      "visibility": null,
      "width": null
     }
    },
    "696b38f2486846e3bdbab69c350c46ee": {
     "model_module": "@jupyter-widgets/controls",
     "model_module_version": "1.5.0",
     "model_name": "DescriptionStyleModel",
     "state": {
      "_model_module": "@jupyter-widgets/controls",
      "_model_module_version": "1.5.0",
      "_model_name": "DescriptionStyleModel",
      "_view_count": null,
      "_view_module": "@jupyter-widgets/base",
      "_view_module_version": "1.2.0",
      "_view_name": "StyleView",
      "description_width": ""
     }
    },
    "6a0ebd387eea40e390e78c83387d2e91": {
     "model_module": "@jupyter-widgets/controls",
     "model_module_version": "1.5.0",
     "model_name": "FloatProgressModel",
     "state": {
      "_dom_classes": [],
      "_model_module": "@jupyter-widgets/controls",
      "_model_module_version": "1.5.0",
      "_model_name": "FloatProgressModel",
      "_view_count": null,
      "_view_module": "@jupyter-widgets/controls",
      "_view_module_version": "1.5.0",
      "_view_name": "ProgressView",
      "bar_style": "success",
      "description": "",
      "description_tooltip": null,
      "layout": "IPY_MODEL_c035cae112ee42cdb1cb69ed733784c6",
      "max": 100,
      "min": 0,
      "orientation": "horizontal",
      "style": "IPY_MODEL_d3597127f10c4deeaa262a9b2bc80dcb",
      "value": 100
     }
    },
    "6b75da443d534309a998720e17281d04": {
     "model_module": "@jupyter-widgets/controls",
     "model_module_version": "1.5.0",
     "model_name": "DescriptionStyleModel",
     "state": {
      "_model_module": "@jupyter-widgets/controls",
      "_model_module_version": "1.5.0",
      "_model_name": "DescriptionStyleModel",
      "_view_count": null,
      "_view_module": "@jupyter-widgets/base",
      "_view_module_version": "1.2.0",
      "_view_name": "StyleView",
      "description_width": ""
     }
    },
    "6cf61d1e23f749669a1284375b2a4594": {
     "model_module": "@jupyter-widgets/base",
     "model_module_version": "1.2.0",
     "model_name": "LayoutModel",
     "state": {
      "_model_module": "@jupyter-widgets/base",
      "_model_module_version": "1.2.0",
      "_model_name": "LayoutModel",
      "_view_count": null,
      "_view_module": "@jupyter-widgets/base",
      "_view_module_version": "1.2.0",
      "_view_name": "LayoutView",
      "align_content": null,
      "align_items": null,
      "align_self": null,
      "border": null,
      "bottom": null,
      "display": null,
      "flex": null,
      "flex_flow": null,
      "grid_area": null,
      "grid_auto_columns": null,
      "grid_auto_flow": null,
      "grid_auto_rows": null,
      "grid_column": null,
      "grid_gap": null,
      "grid_row": null,
      "grid_template_areas": null,
      "grid_template_columns": null,
      "grid_template_rows": null,
      "height": null,
      "justify_content": null,
      "justify_items": null,
      "left": null,
      "margin": null,
      "max_height": null,
      "max_width": null,
      "min_height": null,
      "min_width": null,
      "object_fit": null,
      "object_position": null,
      "order": null,
      "overflow": null,
      "overflow_x": null,
      "overflow_y": null,
      "padding": null,
      "right": null,
      "top": null,
      "visibility": null,
      "width": null
     }
    },
    "6f82a352103e43b18163e4952e0b3b8d": {
     "model_module": "@jupyter-widgets/controls",
     "model_module_version": "1.5.0",
     "model_name": "FloatProgressModel",
     "state": {
      "_dom_classes": [],
      "_model_module": "@jupyter-widgets/controls",
      "_model_module_version": "1.5.0",
      "_model_name": "FloatProgressModel",
      "_view_count": null,
      "_view_module": "@jupyter-widgets/controls",
      "_view_module_version": "1.5.0",
      "_view_name": "ProgressView",
      "bar_style": "success",
      "description": "",
      "description_tooltip": null,
      "layout": "IPY_MODEL_3398d65669f249fdadf808e71b3fba83",
      "max": 1000,
      "min": 0,
      "orientation": "horizontal",
      "style": "IPY_MODEL_c507807a2d2b4ba296c4315fc74b31f3",
      "value": 1000
     }
    },
    "7024a766b7614379a30ae2b1cc28414e": {
     "model_module": "@jupyter-widgets/controls",
     "model_module_version": "1.5.0",
     "model_name": "FloatProgressModel",
     "state": {
      "_dom_classes": [],
      "_model_module": "@jupyter-widgets/controls",
      "_model_module_version": "1.5.0",
      "_model_name": "FloatProgressModel",
      "_view_count": null,
      "_view_module": "@jupyter-widgets/controls",
      "_view_module_version": "1.5.0",
      "_view_name": "ProgressView",
      "bar_style": "success",
      "description": "",
      "description_tooltip": null,
      "layout": "IPY_MODEL_625bbdb6976946a8bd7ed70556a8fa8a",
      "max": 1000,
      "min": 0,
      "orientation": "horizontal",
      "style": "IPY_MODEL_ac302e55830547e0ad3e144e0562376b",
      "value": 1000
     }
    },
    "71c513d42b47429d900ed4a3eb65bd20": {
     "model_module": "@jupyter-widgets/base",
     "model_module_version": "1.2.0",
     "model_name": "LayoutModel",
     "state": {
      "_model_module": "@jupyter-widgets/base",
      "_model_module_version": "1.2.0",
      "_model_name": "LayoutModel",
      "_view_count": null,
      "_view_module": "@jupyter-widgets/base",
      "_view_module_version": "1.2.0",
      "_view_name": "LayoutView",
      "align_content": null,
      "align_items": null,
      "align_self": null,
      "border": null,
      "bottom": null,
      "display": null,
      "flex": null,
      "flex_flow": null,
      "grid_area": null,
      "grid_auto_columns": null,
      "grid_auto_flow": null,
      "grid_auto_rows": null,
      "grid_column": null,
      "grid_gap": null,
      "grid_row": null,
      "grid_template_areas": null,
      "grid_template_columns": null,
      "grid_template_rows": null,
      "height": null,
      "justify_content": null,
      "justify_items": null,
      "left": null,
      "margin": null,
      "max_height": null,
      "max_width": null,
      "min_height": null,
      "min_width": null,
      "object_fit": null,
      "object_position": null,
      "order": null,
      "overflow": null,
      "overflow_x": null,
      "overflow_y": null,
      "padding": null,
      "right": null,
      "top": null,
      "visibility": null,
      "width": null
     }
    },
    "7455a729689142cd91123a470bcd4b54": {
     "model_module": "@jupyter-widgets/controls",
     "model_module_version": "1.5.0",
     "model_name": "DescriptionStyleModel",
     "state": {
      "_model_module": "@jupyter-widgets/controls",
      "_model_module_version": "1.5.0",
      "_model_name": "DescriptionStyleModel",
      "_view_count": null,
      "_view_module": "@jupyter-widgets/base",
      "_view_module_version": "1.2.0",
      "_view_name": "StyleView",
      "description_width": ""
     }
    },
    "7903885093764a07bae6de5e67f95d19": {
     "model_module": "@jupyter-widgets/controls",
     "model_module_version": "1.5.0",
     "model_name": "HTMLModel",
     "state": {
      "_dom_classes": [],
      "_model_module": "@jupyter-widgets/controls",
      "_model_module_version": "1.5.0",
      "_model_name": "HTMLModel",
      "_view_count": null,
      "_view_module": "@jupyter-widgets/controls",
      "_view_module_version": "1.5.0",
      "_view_name": "HTMLView",
      "description": "",
      "description_tooltip": null,
      "layout": "IPY_MODEL_9339ab7ba2b14007a2b407f724c33862",
      "placeholder": "​",
      "style": "IPY_MODEL_ef520334f3ef4e9eae09b9b57336a7f0",
      "value": " 3/3 [00:24&lt;00:00,  8.10s/it]"
     }
    },
    "84e755e7bbfc469fa845ea2472663476": {
     "model_module": "@jupyter-widgets/controls",
     "model_module_version": "1.5.0",
     "model_name": "DescriptionStyleModel",
     "state": {
      "_model_module": "@jupyter-widgets/controls",
      "_model_module_version": "1.5.0",
      "_model_name": "DescriptionStyleModel",
      "_view_count": null,
      "_view_module": "@jupyter-widgets/base",
      "_view_module_version": "1.2.0",
      "_view_name": "StyleView",
      "description_width": ""
     }
    },
    "85adaffac19140ef85a262dbda57beb3": {
     "model_module": "@jupyter-widgets/base",
     "model_module_version": "1.2.0",
     "model_name": "LayoutModel",
     "state": {
      "_model_module": "@jupyter-widgets/base",
      "_model_module_version": "1.2.0",
      "_model_name": "LayoutModel",
      "_view_count": null,
      "_view_module": "@jupyter-widgets/base",
      "_view_module_version": "1.2.0",
      "_view_name": "LayoutView",
      "align_content": null,
      "align_items": null,
      "align_self": null,
      "border": null,
      "bottom": null,
      "display": null,
      "flex": null,
      "flex_flow": null,
      "grid_area": null,
      "grid_auto_columns": null,
      "grid_auto_flow": null,
      "grid_auto_rows": null,
      "grid_column": null,
      "grid_gap": null,
      "grid_row": null,
      "grid_template_areas": null,
      "grid_template_columns": null,
      "grid_template_rows": null,
      "height": null,
      "justify_content": null,
      "justify_items": null,
      "left": null,
      "margin": null,
      "max_height": null,
      "max_width": null,
      "min_height": null,
      "min_width": null,
      "object_fit": null,
      "object_position": null,
      "order": null,
      "overflow": null,
      "overflow_x": null,
      "overflow_y": null,
      "padding": null,
      "right": null,
      "top": null,
      "visibility": null,
      "width": null
     }
    },
    "8bfe60bb63624bc8bc2582052cf1abed": {
     "model_module": "@jupyter-widgets/controls",
     "model_module_version": "1.5.0",
     "model_name": "HBoxModel",
     "state": {
      "_dom_classes": [],
      "_model_module": "@jupyter-widgets/controls",
      "_model_module_version": "1.5.0",
      "_model_name": "HBoxModel",
      "_view_count": null,
      "_view_module": "@jupyter-widgets/controls",
      "_view_module_version": "1.5.0",
      "_view_name": "HBoxView",
      "box_style": "",
      "children": [
       "IPY_MODEL_9a69f8ec07a242d792cf04cfef738489",
       "IPY_MODEL_6a0ebd387eea40e390e78c83387d2e91",
       "IPY_MODEL_9ecf76976487472f9136cb23b0d3ae93"
      ],
      "layout": "IPY_MODEL_f9f95c1bea714738adfb2813f2679323"
     }
    },
    "92618d20e1e34e60879aeb40f87e097d": {
     "model_module": "@jupyter-widgets/controls",
     "model_module_version": "1.5.0",
     "model_name": "ProgressStyleModel",
     "state": {
      "_model_module": "@jupyter-widgets/controls",
      "_model_module_version": "1.5.0",
      "_model_name": "ProgressStyleModel",
      "_view_count": null,
      "_view_module": "@jupyter-widgets/base",
      "_view_module_version": "1.2.0",
      "_view_name": "StyleView",
      "bar_color": null,
      "description_width": ""
     }
    },
    "9339ab7ba2b14007a2b407f724c33862": {
     "model_module": "@jupyter-widgets/base",
     "model_module_version": "1.2.0",
     "model_name": "LayoutModel",
     "state": {
      "_model_module": "@jupyter-widgets/base",
      "_model_module_version": "1.2.0",
      "_model_name": "LayoutModel",
      "_view_count": null,
      "_view_module": "@jupyter-widgets/base",
      "_view_module_version": "1.2.0",
      "_view_name": "LayoutView",
      "align_content": null,
      "align_items": null,
      "align_self": null,
      "border": null,
      "bottom": null,
      "display": null,
      "flex": null,
      "flex_flow": null,
      "grid_area": null,
      "grid_auto_columns": null,
      "grid_auto_flow": null,
      "grid_auto_rows": null,
      "grid_column": null,
      "grid_gap": null,
      "grid_row": null,
      "grid_template_areas": null,
      "grid_template_columns": null,
      "grid_template_rows": null,
      "height": null,
      "justify_content": null,
      "justify_items": null,
      "left": null,
      "margin": null,
      "max_height": null,
      "max_width": null,
      "min_height": null,
      "min_width": null,
      "object_fit": null,
      "object_position": null,
      "order": null,
      "overflow": null,
      "overflow_x": null,
      "overflow_y": null,
      "padding": null,
      "right": null,
      "top": null,
      "visibility": null,
      "width": null
     }
    },
    "95160fca0ae54207afbd2b2598538231": {
     "model_module": "@jupyter-widgets/controls",
     "model_module_version": "1.5.0",
     "model_name": "DescriptionStyleModel",
     "state": {
      "_model_module": "@jupyter-widgets/controls",
      "_model_module_version": "1.5.0",
      "_model_name": "DescriptionStyleModel",
      "_view_count": null,
      "_view_module": "@jupyter-widgets/base",
      "_view_module_version": "1.2.0",
      "_view_name": "StyleView",
      "description_width": ""
     }
    },
    "958577028c034628a4297e8af9262409": {
     "model_module": "@jupyter-widgets/controls",
     "model_module_version": "1.5.0",
     "model_name": "HTMLModel",
     "state": {
      "_dom_classes": [],
      "_model_module": "@jupyter-widgets/controls",
      "_model_module_version": "1.5.0",
      "_model_name": "HTMLModel",
      "_view_count": null,
      "_view_module": "@jupyter-widgets/controls",
      "_view_module_version": "1.5.0",
      "_view_name": "HTMLView",
      "description": "",
      "description_tooltip": null,
      "layout": "IPY_MODEL_e07833385385424b81ba7cedb6b89957",
      "placeholder": "​",
      "style": "IPY_MODEL_c46b0aab94244263bcc42f43512d7c6e",
      "value": " 4/20 [00:12&lt;00:42,  2.65s/it]"
     }
    },
    "9a69f8ec07a242d792cf04cfef738489": {
     "model_module": "@jupyter-widgets/controls",
     "model_module_version": "1.5.0",
     "model_name": "HTMLModel",
     "state": {
      "_dom_classes": [],
      "_model_module": "@jupyter-widgets/controls",
      "_model_module_version": "1.5.0",
      "_model_name": "HTMLModel",
      "_view_count": null,
      "_view_module": "@jupyter-widgets/controls",
      "_view_module_version": "1.5.0",
      "_view_name": "HTMLView",
      "description": "",
      "description_tooltip": null,
      "layout": "IPY_MODEL_ff19d140ffcb4f24bfd0f1429a54ec1d",
      "placeholder": "​",
      "style": "IPY_MODEL_600203d2d3c0492f9ea9bfcdbe236a4e",
      "value": "100%"
     }
    },
    "9bcde55cd29e4d649b4f9d455164e155": {
     "model_module": "@jupyter-widgets/controls",
     "model_module_version": "1.5.0",
     "model_name": "HTMLModel",
     "state": {
      "_dom_classes": [],
      "_model_module": "@jupyter-widgets/controls",
      "_model_module_version": "1.5.0",
      "_model_name": "HTMLModel",
      "_view_count": null,
      "_view_module": "@jupyter-widgets/controls",
      "_view_module_version": "1.5.0",
      "_view_name": "HTMLView",
      "description": "",
      "description_tooltip": null,
      "layout": "IPY_MODEL_5537d963a8054322bbe2ac203e4f995d",
      "placeholder": "​",
      "style": "IPY_MODEL_84e755e7bbfc469fa845ea2472663476",
      "value": "100%"
     }
    },
    "9ecf76976487472f9136cb23b0d3ae93": {
     "model_module": "@jupyter-widgets/controls",
     "model_module_version": "1.5.0",
     "model_name": "HTMLModel",
     "state": {
      "_dom_classes": [],
      "_model_module": "@jupyter-widgets/controls",
      "_model_module_version": "1.5.0",
      "_model_name": "HTMLModel",
      "_view_count": null,
      "_view_module": "@jupyter-widgets/controls",
      "_view_module_version": "1.5.0",
      "_view_name": "HTMLView",
      "description": "",
      "description_tooltip": null,
      "layout": "IPY_MODEL_1152f36b3c534e00b68b787f843dc32d",
      "placeholder": "​",
      "style": "IPY_MODEL_3493a1b6353f45219b7cab62d0be6cbe",
      "value": " 100/100 [00:35&lt;00:00,  2.90it/s]"
     }
    },
    "a4e35c30c21c4e53a4e38f5ca86d6c67": {
     "model_module": "@jupyter-widgets/base",
     "model_module_version": "1.2.0",
     "model_name": "LayoutModel",
     "state": {
      "_model_module": "@jupyter-widgets/base",
      "_model_module_version": "1.2.0",
      "_model_name": "LayoutModel",
      "_view_count": null,
      "_view_module": "@jupyter-widgets/base",
      "_view_module_version": "1.2.0",
      "_view_name": "LayoutView",
      "align_content": null,
      "align_items": null,
      "align_self": null,
      "border": null,
      "bottom": null,
      "display": null,
      "flex": null,
      "flex_flow": null,
      "grid_area": null,
      "grid_auto_columns": null,
      "grid_auto_flow": null,
      "grid_auto_rows": null,
      "grid_column": null,
      "grid_gap": null,
      "grid_row": null,
      "grid_template_areas": null,
      "grid_template_columns": null,
      "grid_template_rows": null,
      "height": null,
      "justify_content": null,
      "justify_items": null,
      "left": null,
      "margin": null,
      "max_height": null,
      "max_width": null,
      "min_height": null,
      "min_width": null,
      "object_fit": null,
      "object_position": null,
      "order": null,
      "overflow": null,
      "overflow_x": null,
      "overflow_y": null,
      "padding": null,
      "right": null,
      "top": null,
      "visibility": null,
      "width": null
     }
    },
    "a62fe7a08ed44a7d9af0e4ca2749e961": {
     "model_module": "@jupyter-widgets/base",
     "model_module_version": "1.2.0",
     "model_name": "LayoutModel",
     "state": {
      "_model_module": "@jupyter-widgets/base",
      "_model_module_version": "1.2.0",
      "_model_name": "LayoutModel",
      "_view_count": null,
      "_view_module": "@jupyter-widgets/base",
      "_view_module_version": "1.2.0",
      "_view_name": "LayoutView",
      "align_content": null,
      "align_items": null,
      "align_self": null,
      "border": null,
      "bottom": null,
      "display": null,
      "flex": null,
      "flex_flow": null,
      "grid_area": null,
      "grid_auto_columns": null,
      "grid_auto_flow": null,
      "grid_auto_rows": null,
      "grid_column": null,
      "grid_gap": null,
      "grid_row": null,
      "grid_template_areas": null,
      "grid_template_columns": null,
      "grid_template_rows": null,
      "height": null,
      "justify_content": null,
      "justify_items": null,
      "left": null,
      "margin": null,
      "max_height": null,
      "max_width": null,
      "min_height": null,
      "min_width": null,
      "object_fit": null,
      "object_position": null,
      "order": null,
      "overflow": null,
      "overflow_x": null,
      "overflow_y": null,
      "padding": null,
      "right": null,
      "top": null,
      "visibility": null,
      "width": null
     }
    },
    "a65784a613ea49849c3707aa9cb6375e": {
     "model_module": "@jupyter-widgets/controls",
     "model_module_version": "1.5.0",
     "model_name": "DescriptionStyleModel",
     "state": {
      "_model_module": "@jupyter-widgets/controls",
      "_model_module_version": "1.5.0",
      "_model_name": "DescriptionStyleModel",
      "_view_count": null,
      "_view_module": "@jupyter-widgets/base",
      "_view_module_version": "1.2.0",
      "_view_name": "StyleView",
      "description_width": ""
     }
    },
    "aa35e890ffe545e4820799f3e1e15e22": {
     "model_module": "@jupyter-widgets/controls",
     "model_module_version": "1.5.0",
     "model_name": "HTMLModel",
     "state": {
      "_dom_classes": [],
      "_model_module": "@jupyter-widgets/controls",
      "_model_module_version": "1.5.0",
      "_model_name": "HTMLModel",
      "_view_count": null,
      "_view_module": "@jupyter-widgets/controls",
      "_view_module_version": "1.5.0",
      "_view_name": "HTMLView",
      "description": "",
      "description_tooltip": null,
      "layout": "IPY_MODEL_64d564f9778749d8acc0450891b494d6",
      "placeholder": "​",
      "style": "IPY_MODEL_eb3d4314bd864586b61d67be4e45b7fe",
      "value": "Train Loss: 0.0001 | Validation Loss: 0.0001: 100%"
     }
    },
    "ac302e55830547e0ad3e144e0562376b": {
     "model_module": "@jupyter-widgets/controls",
     "model_module_version": "1.5.0",
     "model_name": "ProgressStyleModel",
     "state": {
      "_model_module": "@jupyter-widgets/controls",
      "_model_module_version": "1.5.0",
      "_model_name": "ProgressStyleModel",
      "_view_count": null,
      "_view_module": "@jupyter-widgets/base",
      "_view_module_version": "1.2.0",
      "_view_name": "StyleView",
      "bar_color": null,
      "description_width": ""
     }
    },
    "ad095b33bf2746a2abb7734696c44d76": {
     "model_module": "@jupyter-widgets/controls",
     "model_module_version": "1.5.0",
     "model_name": "HBoxModel",
     "state": {
      "_dom_classes": [],
      "_model_module": "@jupyter-widgets/controls",
      "_model_module_version": "1.5.0",
      "_model_name": "HBoxModel",
      "_view_count": null,
      "_view_module": "@jupyter-widgets/controls",
      "_view_module_version": "1.5.0",
      "_view_name": "HBoxView",
      "box_style": "",
      "children": [
       "IPY_MODEL_3e374a76524043c586cee0965ef953cc",
       "IPY_MODEL_d4ff54fb178d4f7abebe7e212a559761",
       "IPY_MODEL_958577028c034628a4297e8af9262409"
      ],
      "layout": "IPY_MODEL_2fb38d3fc0904f1b93c94b10469cc5a5"
     }
    },
    "b5f88562ca09438e9ef8c3dd68c0af1c": {
     "model_module": "@jupyter-widgets/controls",
     "model_module_version": "1.5.0",
     "model_name": "HTMLModel",
     "state": {
      "_dom_classes": [],
      "_model_module": "@jupyter-widgets/controls",
      "_model_module_version": "1.5.0",
      "_model_name": "HTMLModel",
      "_view_count": null,
      "_view_module": "@jupyter-widgets/controls",
      "_view_module_version": "1.5.0",
      "_view_name": "HTMLView",
      "description": "",
      "description_tooltip": null,
      "layout": "IPY_MODEL_a4e35c30c21c4e53a4e38f5ca86d6c67",
      "placeholder": "​",
      "style": "IPY_MODEL_696b38f2486846e3bdbab69c350c46ee",
      "value": "Train Loss: 0.0001 | Validation Loss: 0.0001: 100%"
     }
    },
    "c035cae112ee42cdb1cb69ed733784c6": {
     "model_module": "@jupyter-widgets/base",
     "model_module_version": "1.2.0",
     "model_name": "LayoutModel",
     "state": {
      "_model_module": "@jupyter-widgets/base",
      "_model_module_version": "1.2.0",
      "_model_name": "LayoutModel",
      "_view_count": null,
      "_view_module": "@jupyter-widgets/base",
      "_view_module_version": "1.2.0",
      "_view_name": "LayoutView",
      "align_content": null,
      "align_items": null,
      "align_self": null,
      "border": null,
      "bottom": null,
      "display": null,
      "flex": null,
      "flex_flow": null,
      "grid_area": null,
      "grid_auto_columns": null,
      "grid_auto_flow": null,
      "grid_auto_rows": null,
      "grid_column": null,
      "grid_gap": null,
      "grid_row": null,
      "grid_template_areas": null,
      "grid_template_columns": null,
      "grid_template_rows": null,
      "height": null,
      "justify_content": null,
      "justify_items": null,
      "left": null,
      "margin": null,
      "max_height": null,
      "max_width": null,
      "min_height": null,
      "min_width": null,
      "object_fit": null,
      "object_position": null,
      "order": null,
      "overflow": null,
      "overflow_x": null,
      "overflow_y": null,
      "padding": null,
      "right": null,
      "top": null,
      "visibility": null,
      "width": null
     }
    },
    "c46b0aab94244263bcc42f43512d7c6e": {
     "model_module": "@jupyter-widgets/controls",
     "model_module_version": "1.5.0",
     "model_name": "DescriptionStyleModel",
     "state": {
      "_model_module": "@jupyter-widgets/controls",
      "_model_module_version": "1.5.0",
      "_model_name": "DescriptionStyleModel",
      "_view_count": null,
      "_view_module": "@jupyter-widgets/base",
      "_view_module_version": "1.2.0",
      "_view_name": "StyleView",
      "description_width": ""
     }
    },
    "c507807a2d2b4ba296c4315fc74b31f3": {
     "model_module": "@jupyter-widgets/controls",
     "model_module_version": "1.5.0",
     "model_name": "ProgressStyleModel",
     "state": {
      "_model_module": "@jupyter-widgets/controls",
      "_model_module_version": "1.5.0",
      "_model_name": "ProgressStyleModel",
      "_view_count": null,
      "_view_module": "@jupyter-widgets/base",
      "_view_module_version": "1.2.0",
      "_view_name": "StyleView",
      "bar_color": null,
      "description_width": ""
     }
    },
    "cc09a9f210a045bfa1eed07ca2ccbda4": {
     "model_module": "@jupyter-widgets/controls",
     "model_module_version": "1.5.0",
     "model_name": "HBoxModel",
     "state": {
      "_dom_classes": [],
      "_model_module": "@jupyter-widgets/controls",
      "_model_module_version": "1.5.0",
      "_model_name": "HBoxModel",
      "_view_count": null,
      "_view_module": "@jupyter-widgets/controls",
      "_view_module_version": "1.5.0",
      "_view_name": "HBoxView",
      "box_style": "",
      "children": [
       "IPY_MODEL_cc698d19d6b74ac9900e3bac25226776",
       "IPY_MODEL_dd895cbea7c5496396cc522d848c6408",
       "IPY_MODEL_12a9d226a9b04b0a90ee738cb438963a"
      ],
      "layout": "IPY_MODEL_0acb4cf0c2e64848bcfe3a00961eb64e"
     }
    },
    "cc698d19d6b74ac9900e3bac25226776": {
     "model_module": "@jupyter-widgets/controls",
     "model_module_version": "1.5.0",
     "model_name": "HTMLModel",
     "state": {
      "_dom_classes": [],
      "_model_module": "@jupyter-widgets/controls",
      "_model_module_version": "1.5.0",
      "_model_name": "HTMLModel",
      "_view_count": null,
      "_view_module": "@jupyter-widgets/controls",
      "_view_module_version": "1.5.0",
      "_view_name": "HTMLView",
      "description": "",
      "description_tooltip": null,
      "layout": "IPY_MODEL_e518a4df445742948b6b43674aeea635",
      "placeholder": "​",
      "style": "IPY_MODEL_1666e17a17234421b99ae651551043df",
      "value": " 75%"
     }
    },
    "d09a417d24134eadae738793171d473a": {
     "model_module": "@jupyter-widgets/controls",
     "model_module_version": "1.5.0",
     "model_name": "DescriptionStyleModel",
     "state": {
      "_model_module": "@jupyter-widgets/controls",
      "_model_module_version": "1.5.0",
      "_model_name": "DescriptionStyleModel",
      "_view_count": null,
      "_view_module": "@jupyter-widgets/base",
      "_view_module_version": "1.2.0",
      "_view_name": "StyleView",
      "description_width": ""
     }
    },
    "d2f40df333dc4c399192d47c0b1c362c": {
     "model_module": "@jupyter-widgets/controls",
     "model_module_version": "1.5.0",
     "model_name": "ProgressStyleModel",
     "state": {
      "_model_module": "@jupyter-widgets/controls",
      "_model_module_version": "1.5.0",
      "_model_name": "ProgressStyleModel",
      "_view_count": null,
      "_view_module": "@jupyter-widgets/base",
      "_view_module_version": "1.2.0",
      "_view_name": "StyleView",
      "bar_color": null,
      "description_width": ""
     }
    },
    "d3597127f10c4deeaa262a9b2bc80dcb": {
     "model_module": "@jupyter-widgets/controls",
     "model_module_version": "1.5.0",
     "model_name": "ProgressStyleModel",
     "state": {
      "_model_module": "@jupyter-widgets/controls",
      "_model_module_version": "1.5.0",
      "_model_name": "ProgressStyleModel",
      "_view_count": null,
      "_view_module": "@jupyter-widgets/base",
      "_view_module_version": "1.2.0",
      "_view_name": "StyleView",
      "bar_color": null,
      "description_width": ""
     }
    },
    "d4ff54fb178d4f7abebe7e212a559761": {
     "model_module": "@jupyter-widgets/controls",
     "model_module_version": "1.5.0",
     "model_name": "FloatProgressModel",
     "state": {
      "_dom_classes": [],
      "_model_module": "@jupyter-widgets/controls",
      "_model_module_version": "1.5.0",
      "_model_name": "FloatProgressModel",
      "_view_count": null,
      "_view_module": "@jupyter-widgets/controls",
      "_view_module_version": "1.5.0",
      "_view_name": "ProgressView",
      "bar_style": "danger",
      "description": "",
      "description_tooltip": null,
      "layout": "IPY_MODEL_38ab177a5dec4f3089142fd949a5653c",
      "max": 20,
      "min": 0,
      "orientation": "horizontal",
      "style": "IPY_MODEL_92618d20e1e34e60879aeb40f87e097d",
      "value": 4
     }
    },
    "d62273d9c88149f1aec22d0b78d31834": {
     "model_module": "@jupyter-widgets/base",
     "model_module_version": "1.2.0",
     "model_name": "LayoutModel",
     "state": {
      "_model_module": "@jupyter-widgets/base",
      "_model_module_version": "1.2.0",
      "_model_name": "LayoutModel",
      "_view_count": null,
      "_view_module": "@jupyter-widgets/base",
      "_view_module_version": "1.2.0",
      "_view_name": "LayoutView",
      "align_content": null,
      "align_items": null,
      "align_self": null,
      "border": null,
      "bottom": null,
      "display": null,
      "flex": null,
      "flex_flow": null,
      "grid_area": null,
      "grid_auto_columns": null,
      "grid_auto_flow": null,
      "grid_auto_rows": null,
      "grid_column": null,
      "grid_gap": null,
      "grid_row": null,
      "grid_template_areas": null,
      "grid_template_columns": null,
      "grid_template_rows": null,
      "height": null,
      "justify_content": null,
      "justify_items": null,
      "left": null,
      "margin": null,
      "max_height": null,
      "max_width": null,
      "min_height": null,
      "min_width": null,
      "object_fit": null,
      "object_position": null,
      "order": null,
      "overflow": null,
      "overflow_x": null,
      "overflow_y": null,
      "padding": null,
      "right": null,
      "top": null,
      "visibility": null,
      "width": null
     }
    },
    "dd895cbea7c5496396cc522d848c6408": {
     "model_module": "@jupyter-widgets/controls",
     "model_module_version": "1.5.0",
     "model_name": "FloatProgressModel",
     "state": {
      "_dom_classes": [],
      "_model_module": "@jupyter-widgets/controls",
      "_model_module_version": "1.5.0",
      "_model_name": "FloatProgressModel",
      "_view_count": null,
      "_view_module": "@jupyter-widgets/controls",
      "_view_module_version": "1.5.0",
      "_view_name": "ProgressView",
      "bar_style": "danger",
      "description": "",
      "description_tooltip": null,
      "layout": "IPY_MODEL_2e662c76a54d4c78a7e9aa57888f3846",
      "max": 20,
      "min": 0,
      "orientation": "horizontal",
      "style": "IPY_MODEL_1c1c6b52d5d244a8a234f0740c364b3d",
      "value": 15
     }
    },
    "df7b9a73c75748179793a8e9d4e9bf7b": {
     "model_module": "@jupyter-widgets/controls",
     "model_module_version": "1.5.0",
     "model_name": "HBoxModel",
     "state": {
      "_dom_classes": [],
      "_model_module": "@jupyter-widgets/controls",
      "_model_module_version": "1.5.0",
      "_model_name": "HBoxModel",
      "_view_count": null,
      "_view_module": "@jupyter-widgets/controls",
      "_view_module_version": "1.5.0",
      "_view_name": "HBoxView",
      "box_style": "",
      "children": [
       "IPY_MODEL_2fc9b9ce3ff54e50bf70ec67ea3ca755",
       "IPY_MODEL_7024a766b7614379a30ae2b1cc28414e",
       "IPY_MODEL_0ec521334c284c739a576fce8a8a786c"
      ],
      "layout": "IPY_MODEL_061801c181a0403a92dcdb71510744be"
     }
    },
    "e04063a6a4d846a5ba912e01523f154d": {
     "model_module": "@jupyter-widgets/controls",
     "model_module_version": "1.5.0",
     "model_name": "HBoxModel",
     "state": {
      "_dom_classes": [],
      "_model_module": "@jupyter-widgets/controls",
      "_model_module_version": "1.5.0",
      "_model_name": "HBoxModel",
      "_view_count": null,
      "_view_module": "@jupyter-widgets/controls",
      "_view_module_version": "1.5.0",
      "_view_name": "HBoxView",
      "box_style": "",
      "children": [
       "IPY_MODEL_9bcde55cd29e4d649b4f9d455164e155",
       "IPY_MODEL_39bd89429b3448b9a6297ad34343307d",
       "IPY_MODEL_7903885093764a07bae6de5e67f95d19"
      ],
      "layout": "IPY_MODEL_245c4b8accad49c190a40e439cbc56b0"
     }
    },
    "e07833385385424b81ba7cedb6b89957": {
     "model_module": "@jupyter-widgets/base",
     "model_module_version": "1.2.0",
     "model_name": "LayoutModel",
     "state": {
      "_model_module": "@jupyter-widgets/base",
      "_model_module_version": "1.2.0",
      "_model_name": "LayoutModel",
      "_view_count": null,
      "_view_module": "@jupyter-widgets/base",
      "_view_module_version": "1.2.0",
      "_view_name": "LayoutView",
      "align_content": null,
      "align_items": null,
      "align_self": null,
      "border": null,
      "bottom": null,
      "display": null,
      "flex": null,
      "flex_flow": null,
      "grid_area": null,
      "grid_auto_columns": null,
      "grid_auto_flow": null,
      "grid_auto_rows": null,
      "grid_column": null,
      "grid_gap": null,
      "grid_row": null,
      "grid_template_areas": null,
      "grid_template_columns": null,
      "grid_template_rows": null,
      "height": null,
      "justify_content": null,
      "justify_items": null,
      "left": null,
      "margin": null,
      "max_height": null,
      "max_width": null,
      "min_height": null,
      "min_width": null,
      "object_fit": null,
      "object_position": null,
      "order": null,
      "overflow": null,
      "overflow_x": null,
      "overflow_y": null,
      "padding": null,
      "right": null,
      "top": null,
      "visibility": null,
      "width": null
     }
    },
    "e1eb9dfcc5c84b588cb77936d3d35bbb": {
     "model_module": "@jupyter-widgets/base",
     "model_module_version": "1.2.0",
     "model_name": "LayoutModel",
     "state": {
      "_model_module": "@jupyter-widgets/base",
      "_model_module_version": "1.2.0",
      "_model_name": "LayoutModel",
      "_view_count": null,
      "_view_module": "@jupyter-widgets/base",
      "_view_module_version": "1.2.0",
      "_view_name": "LayoutView",
      "align_content": null,
      "align_items": null,
      "align_self": null,
      "border": null,
      "bottom": null,
      "display": null,
      "flex": null,
      "flex_flow": null,
      "grid_area": null,
      "grid_auto_columns": null,
      "grid_auto_flow": null,
      "grid_auto_rows": null,
      "grid_column": null,
      "grid_gap": null,
      "grid_row": null,
      "grid_template_areas": null,
      "grid_template_columns": null,
      "grid_template_rows": null,
      "height": null,
      "justify_content": null,
      "justify_items": null,
      "left": null,
      "margin": null,
      "max_height": null,
      "max_width": null,
      "min_height": null,
      "min_width": null,
      "object_fit": null,
      "object_position": null,
      "order": null,
      "overflow": null,
      "overflow_x": null,
      "overflow_y": null,
      "padding": null,
      "right": null,
      "top": null,
      "visibility": null,
      "width": null
     }
    },
    "e518a4df445742948b6b43674aeea635": {
     "model_module": "@jupyter-widgets/base",
     "model_module_version": "1.2.0",
     "model_name": "LayoutModel",
     "state": {
      "_model_module": "@jupyter-widgets/base",
      "_model_module_version": "1.2.0",
      "_model_name": "LayoutModel",
      "_view_count": null,
      "_view_module": "@jupyter-widgets/base",
      "_view_module_version": "1.2.0",
      "_view_name": "LayoutView",
      "align_content": null,
      "align_items": null,
      "align_self": null,
      "border": null,
      "bottom": null,
      "display": null,
      "flex": null,
      "flex_flow": null,
      "grid_area": null,
      "grid_auto_columns": null,
      "grid_auto_flow": null,
      "grid_auto_rows": null,
      "grid_column": null,
      "grid_gap": null,
      "grid_row": null,
      "grid_template_areas": null,
      "grid_template_columns": null,
      "grid_template_rows": null,
      "height": null,
      "justify_content": null,
      "justify_items": null,
      "left": null,
      "margin": null,
      "max_height": null,
      "max_width": null,
      "min_height": null,
      "min_width": null,
      "object_fit": null,
      "object_position": null,
      "order": null,
      "overflow": null,
      "overflow_x": null,
      "overflow_y": null,
      "padding": null,
      "right": null,
      "top": null,
      "visibility": null,
      "width": null
     }
    },
    "e89434e9dd9248bcb3bfbef991e02906": {
     "model_module": "@jupyter-widgets/controls",
     "model_module_version": "1.5.0",
     "model_name": "DescriptionStyleModel",
     "state": {
      "_model_module": "@jupyter-widgets/controls",
      "_model_module_version": "1.5.0",
      "_model_name": "DescriptionStyleModel",
      "_view_count": null,
      "_view_module": "@jupyter-widgets/base",
      "_view_module_version": "1.2.0",
      "_view_name": "StyleView",
      "description_width": ""
     }
    },
    "eb3d4314bd864586b61d67be4e45b7fe": {
     "model_module": "@jupyter-widgets/controls",
     "model_module_version": "1.5.0",
     "model_name": "DescriptionStyleModel",
     "state": {
      "_model_module": "@jupyter-widgets/controls",
      "_model_module_version": "1.5.0",
      "_model_name": "DescriptionStyleModel",
      "_view_count": null,
      "_view_module": "@jupyter-widgets/base",
      "_view_module_version": "1.2.0",
      "_view_name": "StyleView",
      "description_width": ""
     }
    },
    "ec82c89a9adb48f597c94f7c6fc5b5f3": {
     "model_module": "@jupyter-widgets/controls",
     "model_module_version": "1.5.0",
     "model_name": "HTMLModel",
     "state": {
      "_dom_classes": [],
      "_model_module": "@jupyter-widgets/controls",
      "_model_module_version": "1.5.0",
      "_model_name": "HTMLModel",
      "_view_count": null,
      "_view_module": "@jupyter-widgets/controls",
      "_view_module_version": "1.5.0",
      "_view_name": "HTMLView",
      "description": "",
      "description_tooltip": null,
      "layout": "IPY_MODEL_85adaffac19140ef85a262dbda57beb3",
      "placeholder": "​",
      "style": "IPY_MODEL_6b75da443d534309a998720e17281d04",
      "value": " 10/10 [00:12&lt;00:00,  1.04it/s]"
     }
    },
    "ef520334f3ef4e9eae09b9b57336a7f0": {
     "model_module": "@jupyter-widgets/controls",
     "model_module_version": "1.5.0",
     "model_name": "DescriptionStyleModel",
     "state": {
      "_model_module": "@jupyter-widgets/controls",
      "_model_module_version": "1.5.0",
      "_model_name": "DescriptionStyleModel",
      "_view_count": null,
      "_view_module": "@jupyter-widgets/base",
      "_view_module_version": "1.2.0",
      "_view_name": "StyleView",
      "description_width": ""
     }
    },
    "f15fbbff66fe4d329de928c2099a80b4": {
     "model_module": "@jupyter-widgets/controls",
     "model_module_version": "1.5.0",
     "model_name": "HBoxModel",
     "state": {
      "_dom_classes": [],
      "_model_module": "@jupyter-widgets/controls",
      "_model_module_version": "1.5.0",
      "_model_name": "HBoxModel",
      "_view_count": null,
      "_view_module": "@jupyter-widgets/controls",
      "_view_module_version": "1.5.0",
      "_view_name": "HBoxView",
      "box_style": "",
      "children": [
       "IPY_MODEL_039143c376ab4080828cf669ff0db4f3",
       "IPY_MODEL_f5699a8c9be2400dbe55fb39e7702110",
       "IPY_MODEL_ec82c89a9adb48f597c94f7c6fc5b5f3"
      ],
      "layout": "IPY_MODEL_4cd7a93f3b364cb79df6908948bc40ed"
     }
    },
    "f43c9334cc0041179d6541ad9aebc238": {
     "model_module": "@jupyter-widgets/controls",
     "model_module_version": "1.5.0",
     "model_name": "ProgressStyleModel",
     "state": {
      "_model_module": "@jupyter-widgets/controls",
      "_model_module_version": "1.5.0",
      "_model_name": "ProgressStyleModel",
      "_view_count": null,
      "_view_module": "@jupyter-widgets/base",
      "_view_module_version": "1.2.0",
      "_view_name": "StyleView",
      "bar_color": null,
      "description_width": ""
     }
    },
    "f526360e72e04a18989c9b5f623c50ab": {
     "model_module": "@jupyter-widgets/controls",
     "model_module_version": "1.5.0",
     "model_name": "ProgressStyleModel",
     "state": {
      "_model_module": "@jupyter-widgets/controls",
      "_model_module_version": "1.5.0",
      "_model_name": "ProgressStyleModel",
      "_view_count": null,
      "_view_module": "@jupyter-widgets/base",
      "_view_module_version": "1.2.0",
      "_view_name": "StyleView",
      "bar_color": null,
      "description_width": ""
     }
    },
    "f5699a8c9be2400dbe55fb39e7702110": {
     "model_module": "@jupyter-widgets/controls",
     "model_module_version": "1.5.0",
     "model_name": "FloatProgressModel",
     "state": {
      "_dom_classes": [],
      "_model_module": "@jupyter-widgets/controls",
      "_model_module_version": "1.5.0",
      "_model_name": "FloatProgressModel",
      "_view_count": null,
      "_view_module": "@jupyter-widgets/controls",
      "_view_module_version": "1.5.0",
      "_view_name": "ProgressView",
      "bar_style": "success",
      "description": "",
      "description_tooltip": null,
      "layout": "IPY_MODEL_39c21a2655e74986a29a69295bfdf6e1",
      "max": 10,
      "min": 0,
      "orientation": "horizontal",
      "style": "IPY_MODEL_f43c9334cc0041179d6541ad9aebc238",
      "value": 10
     }
    },
    "f9f95c1bea714738adfb2813f2679323": {
     "model_module": "@jupyter-widgets/base",
     "model_module_version": "1.2.0",
     "model_name": "LayoutModel",
     "state": {
      "_model_module": "@jupyter-widgets/base",
      "_model_module_version": "1.2.0",
      "_model_name": "LayoutModel",
      "_view_count": null,
      "_view_module": "@jupyter-widgets/base",
      "_view_module_version": "1.2.0",
      "_view_name": "LayoutView",
      "align_content": null,
      "align_items": null,
      "align_self": null,
      "border": null,
      "bottom": null,
      "display": null,
      "flex": null,
      "flex_flow": null,
      "grid_area": null,
      "grid_auto_columns": null,
      "grid_auto_flow": null,
      "grid_auto_rows": null,
      "grid_column": null,
      "grid_gap": null,
      "grid_row": null,
      "grid_template_areas": null,
      "grid_template_columns": null,
      "grid_template_rows": null,
      "height": null,
      "justify_content": null,
      "justify_items": null,
      "left": null,
      "margin": null,
      "max_height": null,
      "max_width": null,
      "min_height": null,
      "min_width": null,
      "object_fit": null,
      "object_position": null,
      "order": null,
      "overflow": null,
      "overflow_x": null,
      "overflow_y": null,
      "padding": null,
      "right": null,
      "top": null,
      "visibility": null,
      "width": null
     }
    },
    "fed7dd5d7d0248c3bda147a1432076a2": {
     "model_module": "@jupyter-widgets/base",
     "model_module_version": "1.2.0",
     "model_name": "LayoutModel",
     "state": {
      "_model_module": "@jupyter-widgets/base",
      "_model_module_version": "1.2.0",
      "_model_name": "LayoutModel",
      "_view_count": null,
      "_view_module": "@jupyter-widgets/base",
      "_view_module_version": "1.2.0",
      "_view_name": "LayoutView",
      "align_content": null,
      "align_items": null,
      "align_self": null,
      "border": null,
      "bottom": null,
      "display": null,
      "flex": null,
      "flex_flow": null,
      "grid_area": null,
      "grid_auto_columns": null,
      "grid_auto_flow": null,
      "grid_auto_rows": null,
      "grid_column": null,
      "grid_gap": null,
      "grid_row": null,
      "grid_template_areas": null,
      "grid_template_columns": null,
      "grid_template_rows": null,
      "height": null,
      "justify_content": null,
      "justify_items": null,
      "left": null,
      "margin": null,
      "max_height": null,
      "max_width": null,
      "min_height": null,
      "min_width": null,
      "object_fit": null,
      "object_position": null,
      "order": null,
      "overflow": null,
      "overflow_x": null,
      "overflow_y": null,
      "padding": null,
      "right": null,
      "top": null,
      "visibility": null,
      "width": null
     }
    },
    "ff19d140ffcb4f24bfd0f1429a54ec1d": {
     "model_module": "@jupyter-widgets/base",
     "model_module_version": "1.2.0",
     "model_name": "LayoutModel",
     "state": {
      "_model_module": "@jupyter-widgets/base",
      "_model_module_version": "1.2.0",
      "_model_name": "LayoutModel",
      "_view_count": null,
      "_view_module": "@jupyter-widgets/base",
      "_view_module_version": "1.2.0",
      "_view_name": "LayoutView",
      "align_content": null,
      "align_items": null,
      "align_self": null,
      "border": null,
      "bottom": null,
      "display": null,
      "flex": null,
      "flex_flow": null,
      "grid_area": null,
      "grid_auto_columns": null,
      "grid_auto_flow": null,
      "grid_auto_rows": null,
      "grid_column": null,
      "grid_gap": null,
      "grid_row": null,
      "grid_template_areas": null,
      "grid_template_columns": null,
      "grid_template_rows": null,
      "height": null,
      "justify_content": null,
      "justify_items": null,
      "left": null,
      "margin": null,
      "max_height": null,
      "max_width": null,
      "min_height": null,
      "min_width": null,
      "object_fit": null,
      "object_position": null,
      "order": null,
      "overflow": null,
      "overflow_x": null,
      "overflow_y": null,
      "padding": null,
      "right": null,
      "top": null,
      "visibility": null,
      "width": null
     }
    }
   }
  }
 },
 "nbformat": 4,
 "nbformat_minor": 0
}
